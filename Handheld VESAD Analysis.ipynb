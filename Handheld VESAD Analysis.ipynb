{
 "cells": [
  {
   "cell_type": "markdown",
   "metadata": {},
   "source": [
    "The analysis of the experiment data is also accessible online: [https://github.com/NormandErwan/HandheldVesadAnalysis/blob/master/Handheld%20VESAD%20Analysis.ipynb](https://github.com/NormandErwan/HandheldVesadAnalysis/blob/master/Handheld%20VESAD%20Analysis.ipynb)."
   ]
  },
  {
   "cell_type": "markdown",
   "metadata": {},
   "source": [
    "## 1. Data preparation"
   ]
  },
  {
   "cell_type": "markdown",
   "metadata": {},
   "source": [
    "Configuration :"
   ]
  },
  {
   "cell_type": "code",
   "execution_count": 1,
   "metadata": {
    "code_folding": [],
    "scrolled": true
   },
   "outputs": [
    {
     "name": "stderr",
     "output_type": "stream",
     "text": [
      "C:\\Users\\Erwan\\Miniconda\\envs\\master-thesis\\lib\\site-packages\\IPython\\html.py:14: ShimWarning: The `IPython.html` package has been deprecated since IPython 4.0. You should import from `notebook` instead. `IPython.html.widgets` has moved to `ipywidgets`.\n",
      "  \"`IPython.html.widgets` has moved to `ipywidgets`.\", ShimWarning)\n"
     ]
    }
   ],
   "source": [
    "# Imports\n",
    "import numpy as np\n",
    "import pandas as pd\n",
    "from pandas.api.types import CategoricalDtype\n",
    "import itertools\n",
    "\n",
    "import seaborn as sns\n",
    "import matplotlib as mpl\n",
    "import matplotlib.pyplot as plt\n",
    "import matplotlib.ticker as ticker\n",
    "import matplotlib.patches as patches\n",
    "\n",
    "from scipy import stats\n",
    "import statsmodels.api as sm\n",
    "from statsmodels.formula.api import ols\n",
    "from statsmodels.stats.multicomp import (MultiComparison, pairwise_tukeyhsd)\n",
    "from statsmodels.stats.multitest import multipletests\n",
    "from statsmodels.stats.libqsturng import psturng\n",
    "\n",
    "from ast import literal_eval\n",
    "from os import listdir\n",
    "from os.path import join\n",
    "\n",
    "from IPython.html.services.config import ConfigManager"
   ]
  },
  {
   "cell_type": "code",
   "execution_count": 2,
   "metadata": {
    "code_folding": []
   },
   "outputs": [],
   "source": [
    "# Notebook configuration\n",
    "%matplotlib inline\n",
    "\n",
    "# Ruler\n",
    "ip = get_ipython()\n",
    "cm = ConfigManager(parent=ip)\n",
    "cm.update('notebook', {\"ruler_column\": [80]})\n",
    "\n",
    "# Style and size of the figures\n",
    "subplotsize = (5, 4)\n",
    "legend_fontsize = sns.plotting_context('notebook')['axes.labelsize']\n",
    "legend_title_fontsize = legend_fontsize + 1\n",
    "sns.set(context='notebook', style='whitegrid', font_scale=1.25,\n",
    "        rc={'legend.fontsize': legend_fontsize, 'savefig.dpi': 300,\n",
    "            'savefig.bbox': 'tight'})\n",
    "\n",
    "# Render the plots with this language\n",
    "language = 'English'\n",
    "#language = 'Français'"
   ]
  },
  {
   "cell_type": "markdown",
   "metadata": {},
   "source": [
    "Data are loaded in the following variables:\n",
    "- Participants information, from the questionary before the trials: `participants`\n",
    "- The summary of the trials of the participants: `raw_trials`\n",
    "- Trials averaged so that each participants ends up with a single observation (there was two trials per condition per participant) (Tip 9 of Dragicevic (2016)) : `trials`\n",
    "- The detailed measures of the trials: `trial_details`\n",
    "- The ranks of the participants from the post-questionary: `ranks`"
   ]
  },
  {
   "cell_type": "code",
   "execution_count": 3,
   "metadata": {
    "scrolled": true
   },
   "outputs": [],
   "source": [
    "participants = pd.read_csv('participants.csv')\n",
    "trials = pd.read_csv('participant_trials.csv')\n",
    "raw_trials = pd.read_csv('participant_trials.csv')\n",
    "ranks = pd.read_csv('participant_ranks.csv')"
   ]
  },
  {
   "cell_type": "code",
   "execution_count": 4,
   "metadata": {
    "code_folding": [
     0
    ]
   },
   "outputs": [],
   "source": [
    "# Detailled trials are long to load, keep commented if unused\n",
    "\n",
    "#trial_details = []\n",
    "#for file in listdir('.'):\n",
    "#    if file.endswith('details.csv'): # The trial files end with *-details.csv\n",
    "#        details.append(pd.read_csv(file))\n",
    "#trial_details = pd.concat(details, ignore_index=True)"
   ]
  },
  {
   "cell_type": "markdown",
   "metadata": {},
   "source": [
    "Creates independent variables lists (`participants_ivs`, `trials_ivs`) and dependent variables lists (`ranks_dvs`, `trials_dvs`) to make easier to use algorithms and to plot figures."
   ]
  },
  {
   "cell_type": "code",
   "execution_count": 5,
   "metadata": {
    "code_folding": [
     0
    ]
   },
   "outputs": [],
   "source": [
    "# Participants IVs\n",
    "if language == 'Français':\n",
    "    participants_iv_labels = ['Participant', 'Sexe', 'Porte des lunettes',\n",
    "                              'Porte des lentilles', 'Est daltonien',\n",
    "                              'Intervalle d\\'âge', 'Main dominante',\n",
    "                              'Main utilisée pour la souris',\n",
    "                              'Activité principale',\n",
    "                              'Utilisation de l\\'ordinateur (heures/jours)',\n",
    "                              'Logiciels 3D utilisés',\n",
    "                              'Visiocasques RV/RA utilisés',\n",
    "                              'Techniques d\\'interactions RV/RA utilisées']\n",
    "else:\n",
    "    participants_iv_labels = ['Participant', 'Sex', 'Has Glasses',\n",
    "                              'Has Contact Lenses', 'Is Color Blind',\n",
    "                              'Age Class', 'Dominant Hand',\n",
    "                              'Hand Used for Mouse', 'Activity',\n",
    "                              'Computer Hours per Day', '3D Softwares Used',\n",
    "                              'HMD Used',\n",
    "                              'Known Interactions Techniques on HMD']\n",
    "\n",
    "participants_ivs = pd.Series(data=participants_iv_labels,\n",
    "                             index=participants.columns)"
   ]
  },
  {
   "cell_type": "code",
   "execution_count": 6,
   "metadata": {
    "code_folding": [
     0
    ],
    "scrolled": true
   },
   "outputs": [],
   "source": [
    "# Trials IVs\n",
    "if language == 'Français':\n",
    "    trials_iv_labels = ['Technique', 'Taille du texte', 'Distance', 'Groupe']\n",
    "else:\n",
    "    trials_iv_labels = ['Technique', 'Text Size', 'Distance', 'Ordering']\n",
    "\n",
    "trials_ivs = ['technique', 'text_size', 'distance', 'ordering']\n",
    "trials_ivs = pd.DataFrame(columns=trials_ivs, index=['label', 'categorical',\n",
    "                                                     'palette'])\n",
    "\n",
    "palette = sns.color_palette('Set2', 8)\n",
    "\n",
    "for iv_index, iv_label in zip(trials_ivs.columns, trials_iv_labels):\n",
    "    iv_categories = trials.sort_values([iv_index + '_id'])\\\n",
    "    .drop_duplicates(iv_index)[iv_index]\n",
    "    iv_categorical = pd.Categorical(iv_categories, iv_categories, ordered=True)\n",
    "    trials_ivs[iv_index] = [iv_label, iv_categorical, palette]\n",
    "\n",
    "technique_palette = [palette[1], palette[0], palette[2]]\n",
    "trials_ivs.at['palette', 'technique'] = technique_palette\n",
    "trials_ivs.at['palette', 'text_size'] = sns.light_palette(palette[6], 3)[1:3]\n",
    "trials_ivs.at['palette', 'distance'] = sns.light_palette(palette[4], 3)[1:3]\n",
    "trials_ivs.at['palette', 'ordering'] = technique_palette"
   ]
  },
  {
   "cell_type": "code",
   "execution_count": 7,
   "metadata": {
    "code_folding": [
     0
    ],
    "scrolled": true
   },
   "outputs": [],
   "source": [
    "# Trials DVs\n",
    "if language == 'Français':\n",
    "    trials_dv_labels = ['Temps de complétion (s)', 'Sélections',\n",
    "                        'Temps en sélection', 'Distance 3D en sélection',\n",
    "                        'Distance en sélection', 'Déselections', 'Erreurs',\n",
    "                        'Disques classés', 'Défilements', 'Temps de défilement',\n",
    "                        'Distance 3D de défilement', 'Distance de défilement',\n",
    "                        'Zooms', 'Temps de zoom', 'Distance 3D de zoom',\n",
    "                        'Distance de zoom', 'Mouvements tête-téléphone',\n",
    "                        'Distance relative tête-téléphone']\n",
    "else:\n",
    "    trials_dv_labels = ['Task Completion Time (s)', 'Selections',\n",
    "                        'Selection Time', 'Selection Distance',\n",
    "                        'Selection Distance on Grid', 'Deselections', 'Errors',\n",
    "                        'Items Classified', 'Pans', 'Pan Time', 'Pan Distance',\n",
    "                        'Pan Distance on Grid', 'Zooms', 'Zoom Time',\n",
    "                        'Zoom Distance', 'Zoom Distance on Grid',\n",
    "                        'Phone-Head Motion', 'Signed Phone-Head Motion']\n",
    "\n",
    "trials_dvs = trials.loc[:, 'total_time':'signed_head_phone_distance'].columns\n",
    "trials_dvs = pd.Series(data=trials_dv_labels, index=trials_dvs)"
   ]
  },
  {
   "cell_type": "code",
   "execution_count": 8,
   "metadata": {
    "code_folding": [
     0
    ]
   },
   "outputs": [],
   "source": [
    "# Ranks DVs\n",
    "if language == 'Français':\n",
    "    ranks_dv_labels = ['Facile à comprendre', 'Mentalement facile à utiliser',\n",
    "                       'Physiquement facile à utiliser', 'Rapidité', 'Réussite',\n",
    "                       'Frustration', 'Préférence']\n",
    "else:\n",
    "    ranks_dv_labels = ['Easy to Understand', 'Mentally Easy to Use',\n",
    "                       'Physically Easy to Use', 'Subjective Speed',\n",
    "                       'Subjective Performance', 'Frustration', 'Preference']\n",
    "\n",
    "ranks_dv_scales = [pd.Categorical(list(range(1, 6)), list(\n",
    "    range(1, 6)), ordered=True)] * len(ranks_dv_labels)\n",
    "\n",
    "RdYlBu = sns.color_palette('RdYlBu', 5)\n",
    "ranks_dv_palettes = [sns.color_palette('RdYlBu', 5)] * len(ranks_dv_labels)\n",
    "\n",
    "ranks_dvs = ranks.loc[:, 'easy_understand':'preference'].columns\n",
    "ranks_dvs = pd.DataFrame(data=[ranks_dv_labels, ranks_dv_scales,\n",
    "                               ranks_dv_palettes],\n",
    "                         columns=ranks_dvs, index=['label', 'scale', 'palette'])\n",
    "\n",
    "ranks_dvs.at['scale', 'preference'] = pd.Categorical(\n",
    "    list(range(1, 4)), list(range(1, 4)), ordered=True)\n",
    "ranks_dvs.at['palette', 'preference'] = [RdYlBu[4], RdYlBu[2], RdYlBu[0]]"
   ]
  },
  {
   "cell_type": "code",
   "execution_count": 9,
   "metadata": {},
   "outputs": [],
   "source": [
    "# Shortcuts\n",
    "participant_id = participants_ivs['participant_id']\n",
    "technique = trials_ivs['technique']\n",
    "text_size = trials_ivs['text_size']\n",
    "distance = trials_ivs['distance']\n",
    "ordering = trials_ivs['ordering']\n",
    "\n",
    "total_time = trials_dvs['total_time']"
   ]
  },
  {
   "cell_type": "markdown",
   "metadata": {},
   "source": [
    "Clean the data:"
   ]
  },
  {
   "cell_type": "code",
   "execution_count": 10,
   "metadata": {
    "code_folding": [
     0
    ]
   },
   "outputs": [],
   "source": [
    "# Set better and translated columns to participants, trials and ranks\n",
    "participants.columns = participants_ivs\n",
    "\n",
    "columns = []\n",
    "for column in trials.columns:\n",
    "    if (column in participants_ivs.index):\n",
    "        columns.append(participants_ivs[column])\n",
    "    elif (column in trials_ivs.columns):\n",
    "        columns.append(trials_ivs[column]['label'])\n",
    "    elif (column in trials_dvs.index):\n",
    "        columns.append(trials_dvs[column])\n",
    "    else:\n",
    "        columns.append(column)\n",
    "\n",
    "trials.columns = columns\n",
    "\n",
    "ranks.columns = [participant_id, ordering['label'],\n",
    "                 technique['label']] + ranks_dvs.loc['label', :].tolist()"
   ]
  },
  {
   "cell_type": "code",
   "execution_count": 11,
   "metadata": {
    "code_folding": [
     0
    ],
    "scrolled": true
   },
   "outputs": [],
   "source": [
    "# Set the participant_id column as the index in participants\n",
    "participants.set_index(participants_ivs['participant_id'], inplace=True)"
   ]
  },
  {
   "cell_type": "code",
   "execution_count": 12,
   "metadata": {
    "code_folding": [
     0
    ],
    "scrolled": true
   },
   "outputs": [],
   "source": [
    "# Some participants are non valid or don't have complete measures\n",
    "del_parti = [0, 4]\n",
    "\n",
    "participants = participants[~participants.index.isin(del_parti)]\n",
    "ranks = ranks[~ranks[participant_id].isin(del_parti)].reset_index(drop=True)\n",
    "\n",
    "trials = trials[~trials[participant_id].isin(del_parti)].reset_index(drop=True)\n",
    "raw_trials = raw_trials[~raw_trials['participant_id'].isin(del_parti)\n",
    "                       ].reset_index(drop=True)"
   ]
  },
  {
   "cell_type": "code",
   "execution_count": 13,
   "metadata": {
    "code_folding": [
     0
    ]
   },
   "outputs": [],
   "source": [
    "# Some participants have wrong head phone mesures\n",
    "for head_distance_column in ['absolute_head_phone_distance',\n",
    "                             'signed_head_phone_distance']:\n",
    "    trials.loc[trials[trials_dvs[head_distance_column]] == 0,\n",
    "               trials_dvs[head_distance_column]] = np.nan\n",
    "    raw_trials.loc[raw_trials[head_distance_column] == 0,\n",
    "                   head_distance_column] = np.nan"
   ]
  },
  {
   "cell_type": "code",
   "execution_count": 14,
   "metadata": {
    "code_folding": [],
    "scrolled": true
   },
   "outputs": [],
   "source": [
    "# Setup categorical columns participants, trials and ranks\n",
    "participants[ordering['label']] = ranks.groupby(participant_id)\\\n",
    "                                        [ordering['label']].first()\n",
    "participants[ordering['label']] = participants[ordering['label']]\\\n",
    "                                    .astype(ordering['categorical'])\n",
    "\n",
    "for iv_index in trials_ivs.columns:\n",
    "    iv = trials_ivs[iv_index]\n",
    "    trials[iv['label']] = trials[iv['label']].astype(iv['categorical'])\n",
    "    raw_trials[iv_index] = trials[iv['label']]\n",
    "\n",
    "ranks[technique['label']] = ranks[technique['label']]\\\n",
    "                            .astype(technique['categorical'])\n",
    "ranks[ordering['label']] = ranks[ordering['label']]\\\n",
    "                           .astype(ordering['categorical'])\n",
    "\n",
    "# Rename categories\n",
    "if language == 'Français':\n",
    "    technique['categorical'].categories = ['Téléphone', 'VESAD tactile', 'VESAD']\n",
    "    text_size['categorical'].categories = ['Grand', 'Petit']\n",
    "    distance['categorical'].categories = ['Proche', 'Loin']\n",
    "    ordering['categorical'].categories = ['Groupe 1', 'Groupe 2', 'Groupe 3']\n",
    "else:\n",
    "    ordering['categorical'].categories = ['Group 1', 'Group 2', 'Group 3']\n",
    "\n",
    "# Set renamed categories to data\n",
    "participants[trials_ivs['ordering']['label']].cat.categories\\\n",
    "    = ordering['categorical'].categories\n",
    "\n",
    "for iv_index in trials_ivs.columns:\n",
    "    iv = trials_ivs[iv_index]\n",
    "    trials[iv['label']].cat.categories = iv['categorical'].categories\n",
    "\n",
    "ranks[technique['label']].cat.categories = technique['categorical'].categories\n",
    "ranks[ordering['label']].cat.categories = ordering['categorical'].categories"
   ]
  },
  {
   "cell_type": "code",
   "execution_count": 15,
   "metadata": {
    "code_folding": [
     0
    ]
   },
   "outputs": [],
   "source": [
    "# Eval the arrays in some dvs\n",
    "def eval_if_str(data):\n",
    "    return literal_eval(data) if isinstance(data, str) else data\n",
    "\n",
    "trials['grid_config'] = trials['grid_config'].apply(eval_if_str)"
   ]
  },
  {
   "cell_type": "code",
   "execution_count": 16,
   "metadata": {
    "code_folding": []
   },
   "outputs": [],
   "source": [
    "# Average trials to one observation per participant\n",
    "trials = trials.groupby([participant_id] + trials_ivs.loc['label', :].tolist(),\n",
    "                        observed=True).mean().reset_index()\n",
    "raw_trials = raw_trials.groupby(['participant_id'] + trials_ivs.columns.tolist(),\n",
    "                        observed=True).mean().reset_index()"
   ]
  },
  {
   "cell_type": "markdown",
   "metadata": {},
   "source": [
    "Utilities:"
   ]
  },
  {
   "cell_type": "code",
   "execution_count": 17,
   "metadata": {
    "code_folding": [
     0
    ]
   },
   "outputs": [],
   "source": [
    "# Figure labels in the selected language\n",
    "labels = pd.Series()\n",
    "\n",
    "if language == 'Français':\n",
    "    labels['category'] = 'Catégorie'\n",
    "    labels['count'] = 'Nombre total'\n",
    "    labels['distance'] = 'Distance moyenne (m)'\n",
    "    labels['dv'] = 'VD'\n",
    "    labels['iv'] = 'VI'\n",
    "    labels['iv_value'] = 'Valeur VI'\n",
    "    labels['mean_difference'] = 'Différence des moyennes'\n",
    "    labels['mean_difference_percentage'] = 'Différence des moyennes (%)'\n",
    "    labels['mean_rank'] = 'Note moyenne'\n",
    "    labels['preferences'] = ['Premier', 'Deuxième', 'Troisième']\n",
    "    labels['p_value'] = 'Valeur p'\n",
    "    labels['question'] = 'Question'\n",
    "    labels['rank'] = 'Note'\n",
    "    labels['time'] = 'Temps moyen (s)'\n",
    "    labels['t_statistic'] = 'Statistique T'\n",
    "    labels['votes'] = 'Participants'\n",
    "else:\n",
    "    labels['category'] = 'Category'\n",
    "    labels['count'] = 'Count'    \n",
    "    labels['distance'] = 'Mean Distance (m)'\n",
    "    labels['dv'] = 'DV'\n",
    "    labels['iv'] = 'IV'\n",
    "    labels['iv_value'] = 'IV Value'\n",
    "    labels['mean_difference'] = 'Mean Difference'\n",
    "    labels['mean_difference_percentage'] = 'Mean Difference Percentage'\n",
    "    labels['mean_rank'] = 'Mean Rank'\n",
    "    labels['preferences'] = ['First', 'Second', 'Third']\n",
    "    labels['p_value'] = 'p-value'\n",
    "    labels['question'] = 'Question'\n",
    "    labels['rank'] = 'Rank'\n",
    "    labels['time'] = 'Mean Time (s)'\n",
    "    labels['t_statistic'] = 'T statistic'\n",
    "    labels['votes'] = 'Participants'"
   ]
  },
  {
   "cell_type": "code",
   "execution_count": 18,
   "metadata": {
    "code_folding": [
     0
    ]
   },
   "outputs": [],
   "source": [
    "def mean_ci(x, which=95, n_boot=1000):\n",
    "    \"\"\"Returns the confidence interval of the mean\"\"\"\n",
    "    x2 = [i for i in x if not np.isnan(i)]\n",
    "    boots = sns.algorithms.bootstrap(x2, n_boot=n_boot)\n",
    "    return sns.utils.ci(boots, which=which)"
   ]
  },
  {
   "cell_type": "code",
   "execution_count": 19,
   "metadata": {
    "code_folding": [
     0
    ]
   },
   "outputs": [],
   "source": [
    "def print_mean_ci(x, ci_which=95):\n",
    "    \"\"\"Returns a string containing the mean with the CI of x\"\"\"\n",
    "    ci1, ci2 = mean_ci(x, which=ci_which)\n",
    "    return '{:.2f} [{:.2f}, {:.2f}]'.format(np.mean(x), ci1, ci2)"
   ]
  },
  {
   "cell_type": "code",
   "execution_count": 20,
   "metadata": {},
   "outputs": [],
   "source": [
    "def exp_mean(x):\n",
    "    return np.exp(np.mean(x))"
   ]
  },
  {
   "cell_type": "code",
   "execution_count": 21,
   "metadata": {
    "code_folding": [
     0
    ]
   },
   "outputs": [],
   "source": [
    "def print_exp_mean_ci(x, ci_which=95):\n",
    "    ci1, ci2 = np.exp(mean_ci(x, which=ci_which))\n",
    "    return '{:.2f} [{:.2f}, {:.2f}]'.format(np.exp(np.mean(x)), ci1, ci2)"
   ]
  },
  {
   "cell_type": "code",
   "execution_count": 22,
   "metadata": {
    "code_folding": [
     0
    ]
   },
   "outputs": [],
   "source": [
    "def mean_difference(a, b):\n",
    "    \"\"\"Returns the mean difference value and percentage between a and b\"\"\"\n",
    "    mean_diff = np.mean(a) - np.mean(b)\n",
    "    mean_diff_percentage = mean_diff / np.mean(b) * 100\n",
    "    return (mean_diff, mean_diff_percentage)"
   ]
  },
  {
   "cell_type": "code",
   "execution_count": 23,
   "metadata": {
    "code_folding": [
     0
    ]
   },
   "outputs": [],
   "source": [
    "def p_values_correction(data, alpha=0.05, correction_method='fdr_bh'):\n",
    "    if correction_method != None:\n",
    "        reject, p_values_corrected, a1, a2 =\\\n",
    "            multipletests(data[labels['p_value']].tolist(), alpha=alpha,\n",
    "                          method=correction_method)\n",
    "        data[labels['p_value']] = p_values_corrected"
   ]
  },
  {
   "cell_type": "code",
   "execution_count": 24,
   "metadata": {
    "code_folding": [
     0
    ]
   },
   "outputs": [],
   "source": [
    "def subplots(nsubplots, ncols_max=2, subplotsize=subplotsize, *plt_args):\n",
    "    ncols = min(ncols_max, nsubplots)\n",
    "    nrows = ((nsubplots - 1) // ncols) + 1\n",
    "    fig, axs = plt.subplots(nrows=nrows, ncols=ncols,\\\n",
    "                            figsize=(subplotsize[0]*ncols, subplotsize[1]*nrows),\n",
    "                            *plt_args)\n",
    "\n",
    "    if nrows == 1 and ncols == 1:\n",
    "        axs = [axs]\n",
    "    elif nrows >= 2 and ncols >= 2:\n",
    "        axs = [ax for ax_row in axs for ax in ax_row]\n",
    "\n",
    "    for ax in axs[::-1][0:len(axs) - nsubplots]:\n",
    "        fig.delaxes(ax)\n",
    "\n",
    "    return (fig, axs)"
   ]
  },
  {
   "cell_type": "code",
   "execution_count": 25,
   "metadata": {
    "code_folding": [
     0
    ]
   },
   "outputs": [],
   "source": [
    "def fix_legend_fontsize(ax_legend, fontsize=legend_title_fontsize):\n",
    "    plt.setp(ax_legend.get_title(), fontsize=fontsize)"
   ]
  },
  {
   "cell_type": "code",
   "execution_count": 26,
   "metadata": {
    "code_folding": [
     0
    ]
   },
   "outputs": [],
   "source": [
    "def config_legend(ax, iv_id, fontsize=legend_title_fontsize):\n",
    "    legend = ax.legend(title=trials_ivs.at['label', iv_id], frameon=True,\n",
    "                       loc='center left', bbox_to_anchor=(1, 0.5))\n",
    "    fix_legend_fontsize(legend)\n",
    "    return legend"
   ]
  },
  {
   "cell_type": "markdown",
   "metadata": {},
   "source": [
    "## 2. Participant ranks"
   ]
  },
  {
   "cell_type": "markdown",
   "metadata": {},
   "source": [
    "Some functions for the analysis:"
   ]
  },
  {
   "cell_type": "code",
   "execution_count": 27,
   "metadata": {
    "code_folding": [
     0
    ]
   },
   "outputs": [],
   "source": [
    "def get_ranks_count(iv_index, dv_index):\n",
    "    iv, dv = trials_ivs[iv_index], ranks_dvs[dv_index]\n",
    "    \n",
    "    ranks_counts_index = pd.MultiIndex.from_product([iv['categorical'],\n",
    "                                                     dv['scale']],\n",
    "                                                    names=[iv['label'],\n",
    "                                                           labels['rank']])\n",
    "    # Zero counts by default and gets the counts\n",
    "    default_counts = pd.Series(0, index=ranks_counts_index)\n",
    "    ranks_counts = ranks.groupby([iv['label'], dv['label']]).size() \n",
    "    \n",
    "    # Merge and remove duplicated defaults\n",
    "    ranks_counts = pd.concat([ranks_counts, default_counts]) \n",
    "    ranks_counts = ranks_counts[~ranks_counts.index.duplicated(keep='first')]\n",
    "    \n",
    "    ranks_counts.sort_index(inplace=True)\n",
    "    ranks_counts.index = ranks_counts_index # Restore the index\n",
    "    return ranks_counts"
   ]
  },
  {
   "cell_type": "code",
   "execution_count": 28,
   "metadata": {
    "code_folding": [
     0
    ]
   },
   "outputs": [],
   "source": [
    "def cumulated_barplot(data, palette, **args):\n",
    "    for row_id, row in data.iloc[::-1].iterrows():\n",
    "        sns.barplot(y=data.columns, x=row, label=row_id,\n",
    "                    color=palette[row_id-1], orient='h', **args)"
   ]
  },
  {
   "cell_type": "code",
   "execution_count": 29,
   "metadata": {
    "code_folding": [
     0
    ]
   },
   "outputs": [],
   "source": [
    "def plot_ranks_distributions(iv_id, dv_ids):\n",
    "    iv = trials_ivs[iv_id]\n",
    "    \n",
    "    fig, axs = subplots(len(dv_ids))\n",
    "    for dv_id, ax in zip(dv_ids, axs):\n",
    "        dv = ranks_dvs[dv_id]\n",
    "\n",
    "        cumulated_ranks_count = get_ranks_count(iv_id, dv_id).unstack(level=0)\\\n",
    "                                .cumsum()\n",
    "        cumulated_barplot(cumulated_ranks_count, palette=dv['palette'], ax=ax)\n",
    "        ax.set(xlabel=labels['votes'], xlim=(0, cumulated_ranks_count.max()[0]))\n",
    "        ax.xaxis.set_major_locator(ticker.MultipleLocator(2)) # Fix the axis ticks\n",
    "\n",
    "        ax_handles, ax_labels = ax.get_legend_handles_labels()\n",
    "        legend = ax.legend(ax_handles[::-1], ax_labels[::-1], frameon=True,\n",
    "                           loc='lower center', bbox_to_anchor=(0.5, 1),\n",
    "                           mode=None, ncol=len(dv['scale']), title=dv['label'],\n",
    "                           fontsize=legend_fontsize-2)\n",
    "        fix_legend_fontsize(legend)\n",
    "        \n",
    "    fig.tight_layout(h_pad=1) # Add padding to avoir legend and labels overlap\n",
    "    return (fig, axs)"
   ]
  },
  {
   "cell_type": "code",
   "execution_count": 30,
   "metadata": {
    "code_folding": [
     0
    ]
   },
   "outputs": [],
   "source": [
    "def plot_ranks(iv_id, dv_ids, estimator=np.mean):\n",
    "    iv = trials_ivs[iv_id]\n",
    "    \n",
    "    fig, axs = subplots(len(dv_ids))\n",
    "    for dv_id, ax in zip(dv_ids, axs):\n",
    "        dv = ranks_dvs[dv_id]\n",
    "\n",
    "        sns.barplot(x=iv['label'], y=dv['label'], palette=iv['palette'],\n",
    "                    data=ranks, ax=ax, estimator=estimator)\n",
    "        ax.set(ylim=(0, dv['scale'][-1]))\n",
    "        ax.yaxis.set_major_locator(ticker.MultipleLocator(1)) # Fix the axis ticks\n",
    "        \n",
    "    return (fig, axs)"
   ]
  },
  {
   "cell_type": "code",
   "execution_count": 31,
   "metadata": {
    "code_folding": [
     0
    ]
   },
   "outputs": [],
   "source": [
    "def rank_samples(iv_id, dv_id):\n",
    "    \"\"\"Returns the list of ranks (DV) for each IV value\"\"\"\n",
    "    samples = []\n",
    "    iv = trials_ivs[iv_id]\n",
    "    for iv_value in iv['categorical']:\n",
    "        dv_label = ranks_dvs[dv_id]['label']\n",
    "        sample = ranks[ranks[iv['label']] == iv_value][dv_label]\\\n",
    "                 .reset_index(drop=True)\n",
    "        samples.append(sample)\n",
    "    return samples"
   ]
  },
  {
   "cell_type": "code",
   "execution_count": 32,
   "metadata": {
    "code_folding": [
     0
    ]
   },
   "outputs": [],
   "source": [
    "def test_ranks(iv_id, dv_ids, **args):\n",
    "    results = []\n",
    "    iv = trials_ivs[iv_id]\n",
    "    \n",
    "    for dv_id in dv_ids:\n",
    "        dv = ranks_dvs[dv_id]\n",
    "        samples = rank_samples(iv_id, dv_id)\n",
    "        H, p = stats.kruskal(*samples)\n",
    "        results.append([iv['label'], dv['label'], H, p])\n",
    "\n",
    "    results = pd.DataFrame(results, columns=[labels['iv'], labels['dv'],\n",
    "                                             'Kruskal-Wallis H',\n",
    "                                             labels['p_value']])\n",
    "    p_values_correction(results, **args)\n",
    "    return results"
   ]
  },
  {
   "cell_type": "code",
   "execution_count": 33,
   "metadata": {
    "code_folding": [
     0
    ]
   },
   "outputs": [],
   "source": [
    "def test_pairwise_ranks(iv_id, dv_ids, **args):\n",
    "    iv = trials_ivs[iv_id]\n",
    "    iv_category_ids = range(len(iv['categorical']))\n",
    "    \n",
    "    results = []\n",
    "    for dv_id in dv_ids:\n",
    "        dv = ranks_dvs[dv_id]\n",
    "        samples = rank_samples(iv_id, dv_id)\n",
    "        sample_pairs = itertools.combinations(iv_category_ids, 2)\n",
    "        for id1, id2 in sample_pairs:\n",
    "            U, p = stats.mannwhitneyu(samples[id1], samples[id2])\n",
    "            mean_diff, mean_diff_per = mean_difference(samples[id1], samples[id2])\n",
    "            results.append([iv['label'], iv['categorical'][id1],\n",
    "                            iv['categorical'][id2], dv['label'],\n",
    "                            mean_diff, mean_diff_per, U, p])\n",
    "\n",
    "    columns = [labels['iv'], labels['iv_value'] + ' 1', \n",
    "               labels['iv_value'] + ' 2', labels['dv'],\n",
    "               labels['mean_difference'], labels['mean_difference_percentage'],\n",
    "               'Mann-Whitney U', labels['p_value']]\n",
    "    results = pd.DataFrame(results, columns=columns)\n",
    "    p_values_correction(results, **args)\n",
    "    return results"
   ]
  },
  {
   "cell_type": "markdown",
   "metadata": {},
   "source": [
    "We display the rank and preference distributions:"
   ]
  },
  {
   "cell_type": "code",
   "execution_count": 34,
   "metadata": {},
   "outputs": [
    {
     "data": {
      "image/png": "[encoded data removed]",
      "text/plain": [
       "<Figure size 720x864 with 6 Axes>"
      ]
     },
     "metadata": {},
     "output_type": "display_data"
    }
   ],
   "source": [
    "(fig, axs) = plot_ranks_distributions('technique', ranks_dvs.columns[0:-1])\n",
    "fig.savefig('ranks_distributions.png')"
   ]
  },
  {
   "cell_type": "code",
   "execution_count": 35,
   "metadata": {},
   "outputs": [
    {
     "data": {
      "image/png": "[encoded data removed]",
      "text/plain": [
       "<Figure size 360x288 with 1 Axes>"
      ]
     },
     "metadata": {},
     "output_type": "display_data"
    }
   ],
   "source": [
    "(fig, axs) = plot_ranks_distributions('technique', ['preference'])\n",
    "\n",
    "ax_handles, ax_labels = axs[0].get_legend_handles_labels()\n",
    "legend = axs[0].legend(ax_handles[::-1], labels['preferences'],\n",
    "                       loc='center left', bbox_to_anchor=(1, 0.5),\n",
    "                       title=ranks_dvs['preference']['label'])\n",
    "fix_legend_fontsize(legend)\n",
    "\n",
    "fig.savefig('preferences_distribution.png')"
   ]
  },
  {
   "cell_type": "markdown",
   "metadata": {},
   "source": [
    "We use the Kruskal-Wallis test (Benjamini–Hochberg correction) on each question to check if there is statistical significative differences between the ranks among TECHNIQUE:"
   ]
  },
  {
   "cell_type": "code",
   "execution_count": 36,
   "metadata": {
    "scrolled": true
   },
   "outputs": [
    {
     "data": {
      "text/html": [
       "<div>\n",
       "<style scoped>\n",
       "    .dataframe tbody tr th:only-of-type {\n",
       "        vertical-align: middle;\n",
       "    }\n",
       "\n",
       "    .dataframe tbody tr th {\n",
       "        vertical-align: top;\n",
       "    }\n",
       "\n",
       "    .dataframe thead th {\n",
       "        text-align: right;\n",
       "    }\n",
       "</style>\n",
       "<table border=\"1\" class=\"dataframe\">\n",
       "  <thead>\n",
       "    <tr style=\"text-align: right;\">\n",
       "      <th></th>\n",
       "      <th>IV</th>\n",
       "      <th>DV</th>\n",
       "      <th>Kruskal-Wallis H</th>\n",
       "      <th>p-value</th>\n",
       "    </tr>\n",
       "  </thead>\n",
       "  <tbody>\n",
       "    <tr>\n",
       "      <th>0</th>\n",
       "      <td>Technique</td>\n",
       "      <td>Easy to Understand</td>\n",
       "      <td>11.001420</td>\n",
       "      <td>0.007497</td>\n",
       "    </tr>\n",
       "    <tr>\n",
       "      <th>1</th>\n",
       "      <td>Technique</td>\n",
       "      <td>Mentally Easy to Use</td>\n",
       "      <td>10.905742</td>\n",
       "      <td>0.007497</td>\n",
       "    </tr>\n",
       "    <tr>\n",
       "      <th>2</th>\n",
       "      <td>Technique</td>\n",
       "      <td>Physically Easy to Use</td>\n",
       "      <td>4.148121</td>\n",
       "      <td>0.125674</td>\n",
       "    </tr>\n",
       "    <tr>\n",
       "      <th>3</th>\n",
       "      <td>Technique</td>\n",
       "      <td>Subjective Speed</td>\n",
       "      <td>7.130846</td>\n",
       "      <td>0.039599</td>\n",
       "    </tr>\n",
       "    <tr>\n",
       "      <th>4</th>\n",
       "      <td>Technique</td>\n",
       "      <td>Subjective Performance</td>\n",
       "      <td>13.784269</td>\n",
       "      <td>0.006303</td>\n",
       "    </tr>\n",
       "    <tr>\n",
       "      <th>5</th>\n",
       "      <td>Technique</td>\n",
       "      <td>Frustration</td>\n",
       "      <td>4.500057</td>\n",
       "      <td>0.122962</td>\n",
       "    </tr>\n",
       "    <tr>\n",
       "      <th>6</th>\n",
       "      <td>Technique</td>\n",
       "      <td>Preference</td>\n",
       "      <td>12.638889</td>\n",
       "      <td>0.006303</td>\n",
       "    </tr>\n",
       "  </tbody>\n",
       "</table>\n",
       "</div>"
      ],
      "text/plain": [
       "          IV                      DV  Kruskal-Wallis H   p-value\n",
       "0  Technique      Easy to Understand         11.001420  0.007497\n",
       "1  Technique    Mentally Easy to Use         10.905742  0.007497\n",
       "2  Technique  Physically Easy to Use          4.148121  0.125674\n",
       "3  Technique        Subjective Speed          7.130846  0.039599\n",
       "4  Technique  Subjective Performance         13.784269  0.006303\n",
       "5  Technique             Frustration          4.500057  0.122962\n",
       "6  Technique              Preference         12.638889  0.006303"
      ]
     },
     "execution_count": 36,
     "metadata": {},
     "output_type": "execute_result"
    }
   ],
   "source": [
    "test_ranks('technique', ranks_dvs, correction_method='fdr_bh')"
   ]
  },
  {
   "cell_type": "markdown",
   "metadata": {},
   "source": [
    "All the questions, except Physically Easy to Use and Frustration, are statistically significants: Easy to Understand ($p=0.007$), Mentally Easy to Use ($p=0.007$), Subjective Speed ($p=0.04$), Subjective Performance ($p=0.006$), Preference ($p=0.006$)."
   ]
  },
  {
   "cell_type": "markdown",
   "metadata": {},
   "source": [
    "We use then pairwise Mann-Whitney tests (Benjamini–Hochberg correction) for the significant questions above:"
   ]
  },
  {
   "cell_type": "code",
   "execution_count": 37,
   "metadata": {
    "scrolled": false
   },
   "outputs": [
    {
     "data": {
      "text/html": [
       "<div>\n",
       "<style scoped>\n",
       "    .dataframe tbody tr th:only-of-type {\n",
       "        vertical-align: middle;\n",
       "    }\n",
       "\n",
       "    .dataframe tbody tr th {\n",
       "        vertical-align: top;\n",
       "    }\n",
       "\n",
       "    .dataframe thead th {\n",
       "        text-align: right;\n",
       "    }\n",
       "</style>\n",
       "<table border=\"1\" class=\"dataframe\">\n",
       "  <thead>\n",
       "    <tr style=\"text-align: right;\">\n",
       "      <th></th>\n",
       "      <th>IV</th>\n",
       "      <th>IV Value 1</th>\n",
       "      <th>IV Value 2</th>\n",
       "      <th>DV</th>\n",
       "      <th>Mean Difference</th>\n",
       "      <th>Mean Difference Percentage</th>\n",
       "      <th>Mann-Whitney U</th>\n",
       "      <th>p-value</th>\n",
       "    </tr>\n",
       "  </thead>\n",
       "  <tbody>\n",
       "    <tr>\n",
       "      <th>0</th>\n",
       "      <td>Technique</td>\n",
       "      <td>PhoneOnly</td>\n",
       "      <td>PhoneInArOut</td>\n",
       "      <td>Easy to Understand</td>\n",
       "      <td>0.083333</td>\n",
       "      <td>1.694915</td>\n",
       "      <td>66.0</td>\n",
       "      <td>0.215732</td>\n",
       "    </tr>\n",
       "    <tr>\n",
       "      <th>1</th>\n",
       "      <td>Technique</td>\n",
       "      <td>PhoneOnly</td>\n",
       "      <td>MidAirInArOut</td>\n",
       "      <td>Easy to Understand</td>\n",
       "      <td>0.750000</td>\n",
       "      <td>17.647059</td>\n",
       "      <td>36.0</td>\n",
       "      <td>0.008605</td>\n",
       "    </tr>\n",
       "    <tr>\n",
       "      <th>2</th>\n",
       "      <td>Technique</td>\n",
       "      <td>PhoneInArOut</td>\n",
       "      <td>MidAirInArOut</td>\n",
       "      <td>Easy to Understand</td>\n",
       "      <td>0.666667</td>\n",
       "      <td>15.686275</td>\n",
       "      <td>40.5</td>\n",
       "      <td>0.020977</td>\n",
       "    </tr>\n",
       "    <tr>\n",
       "      <th>3</th>\n",
       "      <td>Technique</td>\n",
       "      <td>PhoneOnly</td>\n",
       "      <td>PhoneInArOut</td>\n",
       "      <td>Mentally Easy to Use</td>\n",
       "      <td>-1.166667</td>\n",
       "      <td>-25.925926</td>\n",
       "      <td>23.0</td>\n",
       "      <td>0.005031</td>\n",
       "    </tr>\n",
       "    <tr>\n",
       "      <th>4</th>\n",
       "      <td>Technique</td>\n",
       "      <td>PhoneOnly</td>\n",
       "      <td>MidAirInArOut</td>\n",
       "      <td>Mentally Easy to Use</td>\n",
       "      <td>-1.083333</td>\n",
       "      <td>-24.528302</td>\n",
       "      <td>28.5</td>\n",
       "      <td>0.010151</td>\n",
       "    </tr>\n",
       "    <tr>\n",
       "      <th>5</th>\n",
       "      <td>Technique</td>\n",
       "      <td>PhoneInArOut</td>\n",
       "      <td>MidAirInArOut</td>\n",
       "      <td>Mentally Easy to Use</td>\n",
       "      <td>0.083333</td>\n",
       "      <td>1.886792</td>\n",
       "      <td>69.5</td>\n",
       "      <td>0.475027</td>\n",
       "    </tr>\n",
       "    <tr>\n",
       "      <th>6</th>\n",
       "      <td>Technique</td>\n",
       "      <td>PhoneOnly</td>\n",
       "      <td>PhoneInArOut</td>\n",
       "      <td>Subjective Speed</td>\n",
       "      <td>-0.500000</td>\n",
       "      <td>-11.538462</td>\n",
       "      <td>70.5</td>\n",
       "      <td>0.475027</td>\n",
       "    </tr>\n",
       "    <tr>\n",
       "      <th>7</th>\n",
       "      <td>Technique</td>\n",
       "      <td>PhoneOnly</td>\n",
       "      <td>MidAirInArOut</td>\n",
       "      <td>Subjective Speed</td>\n",
       "      <td>0.750000</td>\n",
       "      <td>24.324324</td>\n",
       "      <td>48.5</td>\n",
       "      <td>0.126838</td>\n",
       "    </tr>\n",
       "    <tr>\n",
       "      <th>8</th>\n",
       "      <td>Technique</td>\n",
       "      <td>PhoneInArOut</td>\n",
       "      <td>MidAirInArOut</td>\n",
       "      <td>Subjective Speed</td>\n",
       "      <td>1.250000</td>\n",
       "      <td>40.540541</td>\n",
       "      <td>21.0</td>\n",
       "      <td>0.004655</td>\n",
       "    </tr>\n",
       "    <tr>\n",
       "      <th>9</th>\n",
       "      <td>Technique</td>\n",
       "      <td>PhoneOnly</td>\n",
       "      <td>PhoneInArOut</td>\n",
       "      <td>Subjective Performance</td>\n",
       "      <td>-1.166667</td>\n",
       "      <td>-25.000000</td>\n",
       "      <td>22.5</td>\n",
       "      <td>0.004655</td>\n",
       "    </tr>\n",
       "    <tr>\n",
       "      <th>10</th>\n",
       "      <td>Technique</td>\n",
       "      <td>PhoneOnly</td>\n",
       "      <td>MidAirInArOut</td>\n",
       "      <td>Subjective Performance</td>\n",
       "      <td>0.333333</td>\n",
       "      <td>10.526316</td>\n",
       "      <td>57.0</td>\n",
       "      <td>0.215732</td>\n",
       "    </tr>\n",
       "    <tr>\n",
       "      <th>11</th>\n",
       "      <td>Technique</td>\n",
       "      <td>PhoneInArOut</td>\n",
       "      <td>MidAirInArOut</td>\n",
       "      <td>Subjective Performance</td>\n",
       "      <td>1.500000</td>\n",
       "      <td>47.368421</td>\n",
       "      <td>17.5</td>\n",
       "      <td>0.003904</td>\n",
       "    </tr>\n",
       "    <tr>\n",
       "      <th>12</th>\n",
       "      <td>Technique</td>\n",
       "      <td>PhoneOnly</td>\n",
       "      <td>PhoneInArOut</td>\n",
       "      <td>Preference</td>\n",
       "      <td>1.166667</td>\n",
       "      <td>87.500000</td>\n",
       "      <td>16.0</td>\n",
       "      <td>0.003904</td>\n",
       "    </tr>\n",
       "    <tr>\n",
       "      <th>13</th>\n",
       "      <td>Technique</td>\n",
       "      <td>PhoneOnly</td>\n",
       "      <td>MidAirInArOut</td>\n",
       "      <td>Preference</td>\n",
       "      <td>0.333333</td>\n",
       "      <td>15.384615</td>\n",
       "      <td>56.0</td>\n",
       "      <td>0.215732</td>\n",
       "    </tr>\n",
       "    <tr>\n",
       "      <th>14</th>\n",
       "      <td>Technique</td>\n",
       "      <td>PhoneInArOut</td>\n",
       "      <td>MidAirInArOut</td>\n",
       "      <td>Preference</td>\n",
       "      <td>-0.833333</td>\n",
       "      <td>-38.461538</td>\n",
       "      <td>32.0</td>\n",
       "      <td>0.013011</td>\n",
       "    </tr>\n",
       "  </tbody>\n",
       "</table>\n",
       "</div>"
      ],
      "text/plain": [
       "           IV    IV Value 1     IV Value 2                      DV  \\\n",
       "0   Technique     PhoneOnly   PhoneInArOut      Easy to Understand   \n",
       "1   Technique     PhoneOnly  MidAirInArOut      Easy to Understand   \n",
       "2   Technique  PhoneInArOut  MidAirInArOut      Easy to Understand   \n",
       "3   Technique     PhoneOnly   PhoneInArOut    Mentally Easy to Use   \n",
       "4   Technique     PhoneOnly  MidAirInArOut    Mentally Easy to Use   \n",
       "5   Technique  PhoneInArOut  MidAirInArOut    Mentally Easy to Use   \n",
       "6   Technique     PhoneOnly   PhoneInArOut        Subjective Speed   \n",
       "7   Technique     PhoneOnly  MidAirInArOut        Subjective Speed   \n",
       "8   Technique  PhoneInArOut  MidAirInArOut        Subjective Speed   \n",
       "9   Technique     PhoneOnly   PhoneInArOut  Subjective Performance   \n",
       "10  Technique     PhoneOnly  MidAirInArOut  Subjective Performance   \n",
       "11  Technique  PhoneInArOut  MidAirInArOut  Subjective Performance   \n",
       "12  Technique     PhoneOnly   PhoneInArOut              Preference   \n",
       "13  Technique     PhoneOnly  MidAirInArOut              Preference   \n",
       "14  Technique  PhoneInArOut  MidAirInArOut              Preference   \n",
       "\n",
       "    Mean Difference  Mean Difference Percentage  Mann-Whitney U   p-value  \n",
       "0          0.083333                    1.694915            66.0  0.215732  \n",
       "1          0.750000                   17.647059            36.0  0.008605  \n",
       "2          0.666667                   15.686275            40.5  0.020977  \n",
       "3         -1.166667                  -25.925926            23.0  0.005031  \n",
       "4         -1.083333                  -24.528302            28.5  0.010151  \n",
       "5          0.083333                    1.886792            69.5  0.475027  \n",
       "6         -0.500000                  -11.538462            70.5  0.475027  \n",
       "7          0.750000                   24.324324            48.5  0.126838  \n",
       "8          1.250000                   40.540541            21.0  0.004655  \n",
       "9         -1.166667                  -25.000000            22.5  0.004655  \n",
       "10         0.333333                   10.526316            57.0  0.215732  \n",
       "11         1.500000                   47.368421            17.5  0.003904  \n",
       "12         1.166667                   87.500000            16.0  0.003904  \n",
       "13         0.333333                   15.384615            56.0  0.215732  \n",
       "14        -0.833333                  -38.461538            32.0  0.013011  "
      ]
     },
     "execution_count": 37,
     "metadata": {},
     "output_type": "execute_result"
    }
   ],
   "source": [
    "test_pairwise_ranks('technique', ['easy_understand', 'mentally_easy_use',\n",
    "                                  'could_go_fast', 'subjective_performance',\n",
    "                                  'preference'], correction_method='fdr_bh')"
   ]
  },
  {
   "cell_type": "markdown",
   "metadata": {},
   "source": [
    "We display the mean and 95% CI of each question:"
   ]
  },
  {
   "cell_type": "code",
   "execution_count": 38,
   "metadata": {},
   "outputs": [
    {
     "data": {
      "text/html": [
       "<div>\n",
       "<style scoped>\n",
       "    .dataframe tbody tr th:only-of-type {\n",
       "        vertical-align: middle;\n",
       "    }\n",
       "\n",
       "    .dataframe tbody tr th {\n",
       "        vertical-align: top;\n",
       "    }\n",
       "\n",
       "    .dataframe thead th {\n",
       "        text-align: right;\n",
       "    }\n",
       "</style>\n",
       "<table border=\"1\" class=\"dataframe\">\n",
       "  <thead>\n",
       "    <tr style=\"text-align: right;\">\n",
       "      <th>Technique</th>\n",
       "      <th>PhoneOnly</th>\n",
       "      <th>PhoneInArOut</th>\n",
       "      <th>MidAirInArOut</th>\n",
       "    </tr>\n",
       "  </thead>\n",
       "  <tbody>\n",
       "    <tr>\n",
       "      <th>Easy to Understand</th>\n",
       "      <td>5.00 [5.00, 5.00]</td>\n",
       "      <td>4.92 [4.75, 5.00]</td>\n",
       "      <td>4.25 [3.83, 4.67]</td>\n",
       "    </tr>\n",
       "    <tr>\n",
       "      <th>Mentally Easy to Use</th>\n",
       "      <td>3.33 [2.83, 3.75]</td>\n",
       "      <td>4.50 [4.08, 4.83]</td>\n",
       "      <td>4.42 [3.83, 4.92]</td>\n",
       "    </tr>\n",
       "    <tr>\n",
       "      <th>Physically Easy to Use</th>\n",
       "      <td>3.50 [2.67, 4.33]</td>\n",
       "      <td>4.08 [3.33, 4.67]</td>\n",
       "      <td>2.92 [2.25, 3.67]</td>\n",
       "    </tr>\n",
       "    <tr>\n",
       "      <th>Subjective Speed</th>\n",
       "      <td>3.83 [3.00, 4.67]</td>\n",
       "      <td>4.33 [4.00, 4.67]</td>\n",
       "      <td>3.08 [2.50, 3.67]</td>\n",
       "    </tr>\n",
       "    <tr>\n",
       "      <th>Subjective Performance</th>\n",
       "      <td>3.50 [2.91, 4.00]</td>\n",
       "      <td>4.67 [4.25, 5.00]</td>\n",
       "      <td>3.17 [2.58, 3.75]</td>\n",
       "    </tr>\n",
       "    <tr>\n",
       "      <th>Frustration</th>\n",
       "      <td>3.50 [2.58, 4.33]</td>\n",
       "      <td>4.00 [3.25, 4.58]</td>\n",
       "      <td>2.83 [2.17, 3.50]</td>\n",
       "    </tr>\n",
       "    <tr>\n",
       "      <th>Preference</th>\n",
       "      <td>2.50 [2.08, 2.83]</td>\n",
       "      <td>1.33 [1.08, 1.58]</td>\n",
       "      <td>2.17 [1.75, 2.67]</td>\n",
       "    </tr>\n",
       "  </tbody>\n",
       "</table>\n",
       "</div>"
      ],
      "text/plain": [
       "Technique                       PhoneOnly       PhoneInArOut  \\\n",
       "Easy to Understand      5.00 [5.00, 5.00]  4.92 [4.75, 5.00]   \n",
       "Mentally Easy to Use    3.33 [2.83, 3.75]  4.50 [4.08, 4.83]   \n",
       "Physically Easy to Use  3.50 [2.67, 4.33]  4.08 [3.33, 4.67]   \n",
       "Subjective Speed        3.83 [3.00, 4.67]  4.33 [4.00, 4.67]   \n",
       "Subjective Performance  3.50 [2.91, 4.00]  4.67 [4.25, 5.00]   \n",
       "Frustration             3.50 [2.58, 4.33]  4.00 [3.25, 4.58]   \n",
       "Preference              2.50 [2.08, 2.83]  1.33 [1.08, 1.58]   \n",
       "\n",
       "Technique                   MidAirInArOut  \n",
       "Easy to Understand      4.25 [3.83, 4.67]  \n",
       "Mentally Easy to Use    4.42 [3.83, 4.92]  \n",
       "Physically Easy to Use  2.92 [2.25, 3.67]  \n",
       "Subjective Speed        3.08 [2.50, 3.67]  \n",
       "Subjective Performance  3.17 [2.58, 3.75]  \n",
       "Frustration             2.83 [2.17, 3.50]  \n",
       "Preference              2.17 [1.75, 2.67]  "
      ]
     },
     "execution_count": 38,
     "metadata": {},
     "output_type": "execute_result"
    }
   ],
   "source": [
    "ranks.groupby([trials_ivs['technique']['label']])\\\n",
    "     .aggregate(print_mean_ci).loc[:, ranks_dvs.loc['label', :]].transpose()"
   ]
  },
  {
   "cell_type": "code",
   "execution_count": 39,
   "metadata": {},
   "outputs": [
    {
     "data": {
      "image/png": "[encoded data removed]",
      "text/plain": [
       "<Figure size 720x864 with 6 Axes>"
      ]
     },
     "metadata": {},
     "output_type": "display_data"
    }
   ],
   "source": [
    "(fig, axs) = plot_ranks('technique', ranks_dvs.columns[0:-1])\n",
    "fig.savefig('ranks.png')"
   ]
  },
  {
   "cell_type": "code",
   "execution_count": 40,
   "metadata": {},
   "outputs": [
    {
     "data": {
      "image/png": "[encoded data removed]",
      "text/plain": [
       "<Figure size 360x288 with 1 Axes>"
      ]
     },
     "metadata": {},
     "output_type": "display_data"
    }
   ],
   "source": [
    "(fig, axs) = plot_ranks('technique', ['preference'])\n",
    "fig.savefig('preferences.png')"
   ]
  },
  {
   "cell_type": "markdown",
   "metadata": {},
   "source": [
    "Overall significant results are:\n",
    "\n",
    "- **Easy to Understand**: *PhoneOnly* is significantly better than *MidAirInArOut* ($p = 0.009$), and seems a little better than *PhoneInArOut*.\n",
    "- **Physically Easy to Use**: There is no significant differences due to TECHNIQUE; they seem scored similar.\n",
    "- **Mentally Easy to Use**: *PhoneOnly* is statistically and practically worst than *PhoneInArOut* ($p = 0.005$) and *MidAirInArOut* ($p = 0.01$).\n",
    "- **Subjective Speed**: *PhoneInArOut* is significantly better than *MidAirInArOut* ($p = 0.05$).\n",
    "- **Subjective Performance**: *PhoneInArOut* is statistically better than *PhoneOnly* ($p = 0.005$) and *MidAirInArOut* ($p = 0.004$).\n",
    "- **Frustration**: There is no significant differences due to  TECHNIQUE; they seem scored similar.\n",
    "- **Preference**: *PhoneInArOut* is significantly prefered to *PhoneOnly* ($p = 0.004$) and *MidAirInArOut* ($p = 0.01$)."
   ]
  },
  {
   "cell_type": "markdown",
   "metadata": {},
   "source": [
    "## 3. Participant trials"
   ]
  },
  {
   "cell_type": "markdown",
   "metadata": {},
   "source": [
    "Some functions for the analysis:"
   ]
  },
  {
   "cell_type": "code",
   "execution_count": 41,
   "metadata": {
    "code_folding": [
     0
    ]
   },
   "outputs": [],
   "source": [
    "def trial_samples(iv_id, dv_id, data=trials):\n",
    "    iv, dv = trials_ivs[iv_id], trials_dvs[dv_id]\n",
    "    return [data[data[iv['label']] == iv_value][dv]\\\n",
    "            for iv_value in iv['categorical']]"
   ]
  },
  {
   "cell_type": "code",
   "execution_count": 42,
   "metadata": {
    "code_folding": [
     0
    ]
   },
   "outputs": [],
   "source": [
    "def trial_means(iv_ids, dv_ids, data=trials, aggregate=print_mean_ci):\n",
    "    iv_labels = [trials_ivs.at['label', iv_id] for iv_id in iv_ids]\n",
    "    dv_labels = [trials_dvs[dv_id] for dv_id in dv_ids]\n",
    "    return data[iv_labels + dv_labels].groupby(iv_labels)\\\n",
    "                                      .aggregate(aggregate)"
   ]
  },
  {
   "cell_type": "code",
   "execution_count": 43,
   "metadata": {
    "code_folding": [
     0
    ]
   },
   "outputs": [],
   "source": [
    "def melt_trials(value_vars, var_name, value_name, data=trials):\n",
    "    return pd.melt(data, id_vars=trials_ivs.loc['label', :],\n",
    "                   value_vars=value_vars, var_name=var_name,\n",
    "                   value_name=value_name)"
   ]
  },
  {
   "cell_type": "code",
   "execution_count": 44,
   "metadata": {
    "code_folding": [
     0
    ]
   },
   "outputs": [],
   "source": [
    "def test_normality(iv_ids, dv_ids, data=trials, **args):\n",
    "    results = []\n",
    "    \n",
    "    for dv_id in dv_ids:\n",
    "        for iv_id in iv_ids:\n",
    "            iv = trials_ivs[iv_id]\n",
    "            samples = trial_samples(iv_id, dv_id, data)\n",
    "            for iv_value, sample in zip(iv['categorical'], samples):\n",
    "                W, p = stats.shapiro(sample)\n",
    "                results.append([iv['label'], iv_value, trials_dvs[dv_id], W, p])\n",
    "\n",
    "    results = pd.DataFrame(results, columns=[labels['iv'], labels['iv_value'],\n",
    "                                             labels['dv'], 'Shapiro W',\n",
    "                                             labels['p_value']])\n",
    "    p_values_correction(results, **args)\n",
    "    return results"
   ]
  },
  {
   "cell_type": "code",
   "execution_count": 45,
   "metadata": {
    "code_folding": [
     0
    ]
   },
   "outputs": [],
   "source": [
    "def test_equal_variances(iv_ids, dv_ids, data=trials, levene_center='mean',\n",
    "                         **args):\n",
    "    results = []\n",
    "    \n",
    "    for dv_id in dv_ids:\n",
    "        for iv_id in iv_ids:\n",
    "            samples = trial_samples(iv_id, dv_id, data)\n",
    "            W, p = stats.levene(*samples)\n",
    "            results.append([trials_ivs.at['label', iv_id], trials_dvs[dv_id],\n",
    "                            W, p])\n",
    "\n",
    "    results = pd.DataFrame(results, columns=[labels['iv'], labels['dv'],\n",
    "                                             'Levene W', labels['p_value']])\n",
    "    p_values_correction(results, **args)\n",
    "    return results"
   ]
  },
  {
   "cell_type": "code",
   "execution_count": 46,
   "metadata": {
    "code_folding": [
     0
    ]
   },
   "outputs": [],
   "source": [
    "def test_pairwise_trials(iv_id, dv_id, data=trials, log_data=False, **args):\n",
    "    results = []\n",
    "    iv, dv = trials_ivs[iv_id], trials_dvs[dv_id]\n",
    "    iv_category_ids = range(len(iv['categorical']))\n",
    "    \n",
    "    samples = trial_samples(iv_id, dv_id, data)\n",
    "    sample_pairs = itertools.combinations(iv_category_ids, 2)\n",
    "    for id1, id2 in sample_pairs:\n",
    "        T, p = stats.ttest_ind(samples[id1], samples[id2])\n",
    "        \n",
    "        mean_diff, mean_diff_per = mean_difference(np.exp(samples[id1]),\n",
    "                                                   np.exp(samples[id2]))\\\n",
    "            if log_data else mean_difference(samples[id1], samples[id2])\n",
    "        \n",
    "        results.append([iv['label'], iv['categorical'][id1],\n",
    "                        iv['categorical'][id2], dv, mean_diff,\n",
    "                        mean_diff_per, T, p])\n",
    "\n",
    "    columns = [labels['iv'], labels['iv_value'] + ' 1',\n",
    "               labels['iv_value'] + ' 2', labels['dv'],\n",
    "               labels['mean_difference'], labels['mean_difference_percentage'],\n",
    "               labels['t_statistic'], labels['p_value']]\n",
    "    results = pd.DataFrame(results, columns=columns)\n",
    "\n",
    "    p_values_correction(results, **args)\n",
    "    return results"
   ]
  },
  {
   "cell_type": "code",
   "execution_count": 47,
   "metadata": {
    "code_folding": [
     0
    ]
   },
   "outputs": [],
   "source": [
    "def test_non_normal_trials(iv_ids, dv_ids, data=trials, **args):\n",
    "    results = []\n",
    "    \n",
    "    for dv_id in dv_ids:\n",
    "        for iv_id in iv_ids:\n",
    "            samples = trial_samples(iv_id, dv_id, data)\n",
    "            H, p = stats.kruskal(*samples)\n",
    "            results.append([trials_ivs.at['label', iv_id], trials_dvs[dv_id],\n",
    "                            H, p])\n",
    "\n",
    "    results = pd.DataFrame(results, columns=[labels['iv'], labels['dv'],\n",
    "                                             'Kruskal-Wallis H',\n",
    "                                             labels['p_value']])\n",
    "    p_values_correction(results, **args)\n",
    "    return results"
   ]
  },
  {
   "cell_type": "code",
   "execution_count": 48,
   "metadata": {
    "code_folding": [
     0
    ]
   },
   "outputs": [],
   "source": [
    "def test_pairwise_non_normal_trials(iv_ids, dv_ids, data=trials, **args):\n",
    "    results = []\n",
    "    \n",
    "    for dv_id in dv_ids:\n",
    "        for iv_id in iv_ids:\n",
    "            iv, dv = trials_ivs[iv_id], trials_dvs[dv_id]\n",
    "            samples = trial_samples(iv_id, dv_id, data)\n",
    "        \n",
    "            iv_category_ids = range(len(iv['categorical']))\n",
    "            sample_pairs = itertools.combinations(iv_category_ids, 2)\n",
    "            for id1, id2 in sample_pairs:\n",
    "                U, p = stats.mannwhitneyu(samples[id1], samples[id2])\n",
    "                mean_diff, mean_diff_per = mean_difference(samples[id1],\n",
    "                                                           samples[id2])\n",
    "                results.append([iv['label'], iv['categorical'][id1],\n",
    "                                iv['categorical'][id2], dv, mean_diff,\n",
    "                                mean_diff_per, U, p])\n",
    "\n",
    "    columns = [labels['iv'], labels['iv_value'] + ' 1', \n",
    "               labels['iv_value'] + ' 2', labels['dv'],\n",
    "               labels['mean_difference'], labels['mean_difference_percentage'],\n",
    "               'Mann-Whitney U', labels['p_value']]\n",
    "    results = pd.DataFrame(results, columns=columns)\n",
    "    p_values_correction(results, **args)\n",
    "    return results"
   ]
  },
  {
   "cell_type": "code",
   "execution_count": 49,
   "metadata": {
    "code_folding": [
     0
    ]
   },
   "outputs": [],
   "source": [
    "def plot_trials(iv_ids_list, dv_id, data=trials, kind='bar', **args):\n",
    "    dv = trials_dvs[dv_id]\n",
    "    if (len(iv_ids_list) == 0):\n",
    "        iv_ids_list = [[iv_id] for id_id in trials_ivs.columns]\n",
    "        \n",
    "    fig, axs = subplots(len(iv_ids_list))\n",
    "    for id_ids, ax in zip(iv_ids_list, axs):\n",
    "        \n",
    "        ivs = [trials_ivs[id_id] for id_id in id_ids]\n",
    "        if (len(ivs) == 1):\n",
    "            iv = ivs[0]\n",
    "            \n",
    "            if (kind == 'bar'):\n",
    "                sns.barplot(x=iv['label'], y=dv, data=data,\n",
    "                            palette=iv['palette'], ax=ax, **args)\n",
    "                \n",
    "            elif (kind == 'box'):\n",
    "                sns.boxplot(x=iv['label'], y=dv, data=data,\n",
    "                            palette=iv['palette'], ax=ax, **args)\n",
    "                \n",
    "            elif (kind == 'count'):\n",
    "                sns.countplot(hue=iv['label'], x=dv, data=data,\n",
    "                              palette=iv['palette'], ax=ax, **args)\n",
    "                ax.set(ylabel='Count')\n",
    "                ax.legend(loc='upper right', title=labels['count'],\n",
    "                          frameon=True)\n",
    "            \n",
    "        elif (len(ivs) == 2):\n",
    "            if (kind == 'bar'):\n",
    "                sns.barplot(x=ivs[1]['label'], y=dv, hue=ivs[0]['label'],\n",
    "                            data=data, palette=ivs[0]['palette'], ax=ax, **args)\n",
    "            ax.legend(frameon=True, loc='upper left', bbox_to_anchor=(1, 1))\n",
    "            \n",
    "    return (fig, axs)"
   ]
  },
  {
   "cell_type": "markdown",
   "metadata": {},
   "source": [
    "### 3.1. Task completion time"
   ]
  },
  {
   "cell_type": "markdown",
   "metadata": {},
   "source": [
    "We first apply a log transform to TCT to approximate a normal distribution."
   ]
  },
  {
   "cell_type": "code",
   "execution_count": 50,
   "metadata": {},
   "outputs": [
    {
     "data": {
      "image/png": "[encoded data removed]",
      "text/plain": [
       "<Figure size 648x216 with 3 Axes>"
      ]
     },
     "metadata": {},
     "output_type": "display_data"
    }
   ],
   "source": [
    "g = sns.FacetGrid(trials, col=technique['label'], hue=technique['label'],\n",
    "                 palette=technique['palette'])\n",
    "g = g.map(plt.hist, total_time)\n",
    "g.savefig('tct_distributions.png')"
   ]
  },
  {
   "cell_type": "code",
   "execution_count": 51,
   "metadata": {
    "scrolled": true
   },
   "outputs": [],
   "source": [
    "trials[total_time] = np.log(trials[total_time])\n",
    "raw_trials['total_time'] = np.log(raw_trials['total_time'])"
   ]
  },
  {
   "cell_type": "code",
   "execution_count": 52,
   "metadata": {},
   "outputs": [
    {
     "data": {
      "image/png": "[encoded data removed]",
      "text/plain": [
       "<Figure size 648x216 with 3 Axes>"
      ]
     },
     "metadata": {},
     "output_type": "display_data"
    }
   ],
   "source": [
    "g = sns.FacetGrid(trials, col=technique['label'], hue=technique['label'],\n",
    "                 palette=technique['palette'])\n",
    "g = g.map(plt.hist, total_time)\n",
    "g.savefig('tct_distributions_log.png')"
   ]
  },
  {
   "cell_type": "markdown",
   "metadata": {},
   "source": [
    "We test the normality of TCT distributions for each TECHNIQUE and their equality of variances, since it's the main factor of interest."
   ]
  },
  {
   "cell_type": "code",
   "execution_count": 53,
   "metadata": {},
   "outputs": [
    {
     "data": {
      "text/html": [
       "<div>\n",
       "<style scoped>\n",
       "    .dataframe tbody tr th:only-of-type {\n",
       "        vertical-align: middle;\n",
       "    }\n",
       "\n",
       "    .dataframe tbody tr th {\n",
       "        vertical-align: top;\n",
       "    }\n",
       "\n",
       "    .dataframe thead th {\n",
       "        text-align: right;\n",
       "    }\n",
       "</style>\n",
       "<table border=\"1\" class=\"dataframe\">\n",
       "  <thead>\n",
       "    <tr style=\"text-align: right;\">\n",
       "      <th></th>\n",
       "      <th>IV</th>\n",
       "      <th>IV Value</th>\n",
       "      <th>DV</th>\n",
       "      <th>Shapiro W</th>\n",
       "      <th>p-value</th>\n",
       "    </tr>\n",
       "  </thead>\n",
       "  <tbody>\n",
       "    <tr>\n",
       "      <th>0</th>\n",
       "      <td>Technique</td>\n",
       "      <td>PhoneOnly</td>\n",
       "      <td>Task Completion Time (s)</td>\n",
       "      <td>0.983679</td>\n",
       "      <td>0.735995</td>\n",
       "    </tr>\n",
       "    <tr>\n",
       "      <th>1</th>\n",
       "      <td>Technique</td>\n",
       "      <td>PhoneInArOut</td>\n",
       "      <td>Task Completion Time (s)</td>\n",
       "      <td>0.971828</td>\n",
       "      <td>0.446912</td>\n",
       "    </tr>\n",
       "    <tr>\n",
       "      <th>2</th>\n",
       "      <td>Technique</td>\n",
       "      <td>MidAirInArOut</td>\n",
       "      <td>Task Completion Time (s)</td>\n",
       "      <td>0.966510</td>\n",
       "      <td>0.446912</td>\n",
       "    </tr>\n",
       "  </tbody>\n",
       "</table>\n",
       "</div>"
      ],
      "text/plain": [
       "          IV       IV Value                        DV  Shapiro W   p-value\n",
       "0  Technique      PhoneOnly  Task Completion Time (s)   0.983679  0.735995\n",
       "1  Technique   PhoneInArOut  Task Completion Time (s)   0.971828  0.446912\n",
       "2  Technique  MidAirInArOut  Task Completion Time (s)   0.966510  0.446912"
      ]
     },
     "execution_count": 53,
     "metadata": {},
     "output_type": "execute_result"
    }
   ],
   "source": [
    "test_normality(['technique'], ['total_time'])"
   ]
  },
  {
   "cell_type": "code",
   "execution_count": 54,
   "metadata": {},
   "outputs": [
    {
     "data": {
      "text/html": [
       "<div>\n",
       "<style scoped>\n",
       "    .dataframe tbody tr th:only-of-type {\n",
       "        vertical-align: middle;\n",
       "    }\n",
       "\n",
       "    .dataframe tbody tr th {\n",
       "        vertical-align: top;\n",
       "    }\n",
       "\n",
       "    .dataframe thead th {\n",
       "        text-align: right;\n",
       "    }\n",
       "</style>\n",
       "<table border=\"1\" class=\"dataframe\">\n",
       "  <thead>\n",
       "    <tr style=\"text-align: right;\">\n",
       "      <th></th>\n",
       "      <th>IV</th>\n",
       "      <th>DV</th>\n",
       "      <th>Levene W</th>\n",
       "      <th>p-value</th>\n",
       "    </tr>\n",
       "  </thead>\n",
       "  <tbody>\n",
       "    <tr>\n",
       "      <th>0</th>\n",
       "      <td>Technique</td>\n",
       "      <td>Task Completion Time (s)</td>\n",
       "      <td>0.756269</td>\n",
       "      <td>0.471309</td>\n",
       "    </tr>\n",
       "  </tbody>\n",
       "</table>\n",
       "</div>"
      ],
      "text/plain": [
       "          IV                        DV  Levene W   p-value\n",
       "0  Technique  Task Completion Time (s)  0.756269  0.471309"
      ]
     },
     "execution_count": 54,
     "metadata": {},
     "output_type": "execute_result"
    }
   ],
   "source": [
    "test_equal_variances(['technique'], ['total_time'])"
   ]
  },
  {
   "cell_type": "markdown",
   "metadata": {},
   "source": [
    "We meet all the assumptions of an ANOVA. Trials were done independently, TCT distributions are normal and their variances are equal."
   ]
  },
  {
   "cell_type": "markdown",
   "metadata": {},
   "source": [
    "We perform a full factorial ANOVA with the model: TCT ~ TECHNIQUE x TEXT_SIZE x DISTANCE + TECHNIQUE x ORDERING."
   ]
  },
  {
   "cell_type": "code",
   "execution_count": 55,
   "metadata": {
    "scrolled": false
   },
   "outputs": [
    {
     "data": {
      "text/html": [
       "<div>\n",
       "<style scoped>\n",
       "    .dataframe tbody tr th:only-of-type {\n",
       "        vertical-align: middle;\n",
       "    }\n",
       "\n",
       "    .dataframe tbody tr th {\n",
       "        vertical-align: top;\n",
       "    }\n",
       "\n",
       "    .dataframe thead th {\n",
       "        text-align: right;\n",
       "    }\n",
       "</style>\n",
       "<table border=\"1\" class=\"dataframe\">\n",
       "  <thead>\n",
       "    <tr style=\"text-align: right;\">\n",
       "      <th></th>\n",
       "      <th>sum_sq</th>\n",
       "      <th>df</th>\n",
       "      <th>F</th>\n",
       "      <th>PR(&gt;F)</th>\n",
       "    </tr>\n",
       "  </thead>\n",
       "  <tbody>\n",
       "    <tr>\n",
       "      <th>technique</th>\n",
       "      <td>12.328279</td>\n",
       "      <td>2.0</td>\n",
       "      <td>62.210952</td>\n",
       "      <td>1.610604e-19</td>\n",
       "    </tr>\n",
       "    <tr>\n",
       "      <th>text_size</th>\n",
       "      <td>0.145175</td>\n",
       "      <td>1.0</td>\n",
       "      <td>1.465169</td>\n",
       "      <td>2.283752e-01</td>\n",
       "    </tr>\n",
       "    <tr>\n",
       "      <th>distance</th>\n",
       "      <td>0.029459</td>\n",
       "      <td>1.0</td>\n",
       "      <td>0.297314</td>\n",
       "      <td>5.865353e-01</td>\n",
       "    </tr>\n",
       "    <tr>\n",
       "      <th>ordering</th>\n",
       "      <td>2.133256</td>\n",
       "      <td>2.0</td>\n",
       "      <td>10.764832</td>\n",
       "      <td>4.829976e-05</td>\n",
       "    </tr>\n",
       "    <tr>\n",
       "      <th>technique:text_size</th>\n",
       "      <td>0.398420</td>\n",
       "      <td>2.0</td>\n",
       "      <td>2.010508</td>\n",
       "      <td>1.381943e-01</td>\n",
       "    </tr>\n",
       "    <tr>\n",
       "      <th>technique:distance</th>\n",
       "      <td>0.074854</td>\n",
       "      <td>2.0</td>\n",
       "      <td>0.377730</td>\n",
       "      <td>6.861892e-01</td>\n",
       "    </tr>\n",
       "    <tr>\n",
       "      <th>text_size:distance</th>\n",
       "      <td>0.291976</td>\n",
       "      <td>1.0</td>\n",
       "      <td>2.946742</td>\n",
       "      <td>8.850822e-02</td>\n",
       "    </tr>\n",
       "    <tr>\n",
       "      <th>technique:ordering</th>\n",
       "      <td>3.086868</td>\n",
       "      <td>4.0</td>\n",
       "      <td>7.788476</td>\n",
       "      <td>1.215733e-05</td>\n",
       "    </tr>\n",
       "    <tr>\n",
       "      <th>technique:text_size:distance</th>\n",
       "      <td>0.499563</td>\n",
       "      <td>2.0</td>\n",
       "      <td>2.520896</td>\n",
       "      <td>8.443561e-02</td>\n",
       "    </tr>\n",
       "    <tr>\n",
       "      <th>Residual</th>\n",
       "      <td>12.484644</td>\n",
       "      <td>126.0</td>\n",
       "      <td>NaN</td>\n",
       "      <td>NaN</td>\n",
       "    </tr>\n",
       "  </tbody>\n",
       "</table>\n",
       "</div>"
      ],
      "text/plain": [
       "                                 sum_sq     df          F        PR(>F)\n",
       "technique                     12.328279    2.0  62.210952  1.610604e-19\n",
       "text_size                      0.145175    1.0   1.465169  2.283752e-01\n",
       "distance                       0.029459    1.0   0.297314  5.865353e-01\n",
       "ordering                       2.133256    2.0  10.764832  4.829976e-05\n",
       "technique:text_size            0.398420    2.0   2.010508  1.381943e-01\n",
       "technique:distance             0.074854    2.0   0.377730  6.861892e-01\n",
       "text_size:distance             0.291976    1.0   2.946742  8.850822e-02\n",
       "technique:ordering             3.086868    4.0   7.788476  1.215733e-05\n",
       "technique:text_size:distance   0.499563    2.0   2.520896  8.443561e-02\n",
       "Residual                      12.484644  126.0        NaN           NaN"
      ]
     },
     "execution_count": 55,
     "metadata": {},
     "output_type": "execute_result"
    }
   ],
   "source": [
    "tct_model = ols('total_time ~ technique * text_size * distance'\n",
    "                + '+ technique * ordering', data=raw_trials).fit()\n",
    "sm.stats.anova_lm(tct_model, typ=2)"
   ]
  },
  {
   "cell_type": "markdown",
   "metadata": {},
   "source": [
    "The main significant effect on TCT is TECHNIQUE ($F=62.2$, $p<0.0001$), then ORDERING ($F=10.8$, $p<0.0001$). There is also an significant interaction effect: TECHNIQUE x ORDERING ($F=2.5$, $p<0.0001$)."
   ]
  },
  {
   "cell_type": "markdown",
   "metadata": {},
   "source": [
    "We display mean TCT values with 95% CI for these conditions:"
   ]
  },
  {
   "cell_type": "code",
   "execution_count": 56,
   "metadata": {
    "scrolled": true
   },
   "outputs": [
    {
     "data": {
      "text/html": [
       "<div>\n",
       "<style scoped>\n",
       "    .dataframe tbody tr th:only-of-type {\n",
       "        vertical-align: middle;\n",
       "    }\n",
       "\n",
       "    .dataframe tbody tr th {\n",
       "        vertical-align: top;\n",
       "    }\n",
       "\n",
       "    .dataframe thead th {\n",
       "        text-align: right;\n",
       "    }\n",
       "</style>\n",
       "<table border=\"1\" class=\"dataframe\">\n",
       "  <thead>\n",
       "    <tr style=\"text-align: right;\">\n",
       "      <th></th>\n",
       "      <th>Task Completion Time (s)</th>\n",
       "    </tr>\n",
       "    <tr>\n",
       "      <th>Technique</th>\n",
       "      <th></th>\n",
       "    </tr>\n",
       "  </thead>\n",
       "  <tbody>\n",
       "    <tr>\n",
       "      <th>PhoneOnly</th>\n",
       "      <td>84.02 [76.49, 92.29]</td>\n",
       "    </tr>\n",
       "    <tr>\n",
       "      <th>PhoneInArOut</th>\n",
       "      <td>62.59 [56.17, 69.55]</td>\n",
       "    </tr>\n",
       "    <tr>\n",
       "      <th>MidAirInArOut</th>\n",
       "      <td>127.71 [114.61, 142.79]</td>\n",
       "    </tr>\n",
       "  </tbody>\n",
       "</table>\n",
       "</div>"
      ],
      "text/plain": [
       "              Task Completion Time (s)\n",
       "Technique                             \n",
       "PhoneOnly         84.02 [76.49, 92.29]\n",
       "PhoneInArOut      62.59 [56.17, 69.55]\n",
       "MidAirInArOut  127.71 [114.61, 142.79]"
      ]
     },
     "execution_count": 56,
     "metadata": {},
     "output_type": "execute_result"
    }
   ],
   "source": [
    "trial_means(['technique'], ['total_time'], aggregate=print_exp_mean_ci)"
   ]
  },
  {
   "cell_type": "code",
   "execution_count": 57,
   "metadata": {},
   "outputs": [
    {
     "data": {
      "image/png": "[encoded data removed]",
      "text/plain": [
       "<Figure size 432x288 with 1 Axes>"
      ]
     },
     "metadata": {},
     "output_type": "display_data"
    }
   ],
   "source": [
    "ax = sns.barplot(x=trials_dvs['total_time'], y=technique['label'],\n",
    "                 palette=technique['palette'], data=trials, estimator=exp_mean)\n",
    "ax.get_figure().savefig('tct.png')"
   ]
  },
  {
   "cell_type": "code",
   "execution_count": 58,
   "metadata": {},
   "outputs": [
    {
     "data": {
      "text/html": [
       "<div>\n",
       "<style scoped>\n",
       "    .dataframe tbody tr th:only-of-type {\n",
       "        vertical-align: middle;\n",
       "    }\n",
       "\n",
       "    .dataframe tbody tr th {\n",
       "        vertical-align: top;\n",
       "    }\n",
       "\n",
       "    .dataframe thead tr th {\n",
       "        text-align: left;\n",
       "    }\n",
       "\n",
       "    .dataframe thead tr:last-of-type th {\n",
       "        text-align: right;\n",
       "    }\n",
       "</style>\n",
       "<table border=\"1\" class=\"dataframe\">\n",
       "  <thead>\n",
       "    <tr>\n",
       "      <th></th>\n",
       "      <th colspan=\"3\" halign=\"left\">Task Completion Time (s)</th>\n",
       "    </tr>\n",
       "    <tr>\n",
       "      <th>Technique</th>\n",
       "      <th>PhoneOnly</th>\n",
       "      <th>PhoneInArOut</th>\n",
       "      <th>MidAirInArOut</th>\n",
       "    </tr>\n",
       "    <tr>\n",
       "      <th>Ordering</th>\n",
       "      <th></th>\n",
       "      <th></th>\n",
       "      <th></th>\n",
       "    </tr>\n",
       "  </thead>\n",
       "  <tbody>\n",
       "    <tr>\n",
       "      <th>Group 1</th>\n",
       "      <td>107.14 [92.53, 124.69]</td>\n",
       "      <td>73.63 [66.87, 80.71]</td>\n",
       "      <td>124.00 [107.36, 142.70]</td>\n",
       "    </tr>\n",
       "    <tr>\n",
       "      <th>Group 2</th>\n",
       "      <td>76.22 [65.86, 87.04]</td>\n",
       "      <td>78.79 [68.67, 89.26]</td>\n",
       "      <td>125.91 [100.74, 151.03]</td>\n",
       "    </tr>\n",
       "    <tr>\n",
       "      <th>Group 3</th>\n",
       "      <td>72.64 [64.28, 81.87]</td>\n",
       "      <td>42.27 [37.74, 47.54]</td>\n",
       "      <td>133.41 [107.95, 166.24]</td>\n",
       "    </tr>\n",
       "  </tbody>\n",
       "</table>\n",
       "</div>"
      ],
      "text/plain": [
       "          Task Completion Time (s)                        \\\n",
       "Technique                PhoneOnly          PhoneInArOut   \n",
       "Ordering                                                   \n",
       "Group 1     107.14 [92.53, 124.69]  73.63 [66.87, 80.71]   \n",
       "Group 2       76.22 [65.86, 87.04]  78.79 [68.67, 89.26]   \n",
       "Group 3       72.64 [64.28, 81.87]  42.27 [37.74, 47.54]   \n",
       "\n",
       "                                    \n",
       "Technique            MidAirInArOut  \n",
       "Ordering                            \n",
       "Group 1    124.00 [107.36, 142.70]  \n",
       "Group 2    125.91 [100.74, 151.03]  \n",
       "Group 3    133.41 [107.95, 166.24]  "
      ]
     },
     "execution_count": 58,
     "metadata": {},
     "output_type": "execute_result"
    }
   ],
   "source": [
    "trial_means(['ordering', 'technique'], ['total_time'],\n",
    "            aggregate=print_exp_mean_ci).unstack()"
   ]
  },
  {
   "cell_type": "code",
   "execution_count": 59,
   "metadata": {},
   "outputs": [
    {
     "data": {
      "image/png": "[encoded data removed]",
      "text/plain": [
       "<Figure size 432x288 with 1 Axes>"
      ]
     },
     "metadata": {},
     "output_type": "display_data"
    }
   ],
   "source": [
    "ax = sns.pointplot(x=trials_dvs['total_time'], y=technique['label'],\n",
    "                  hue=ordering['label'], palette=ordering['palette'],\n",
    "                  data=trials, dodge=True, estimator=exp_mean)\n",
    "config_legend(ax, 'ordering')\n",
    "ax.get_figure().savefig('tct_ordering.png')"
   ]
  },
  {
   "cell_type": "markdown",
   "metadata": {},
   "source": [
    "It seems that participants who started with *PhoneOnly* were slower with this technique than the the other groups. Similarly, participants who finished with *PhoneInArOut* were faster with this technique. It indicates there is a learning curve on the task, but interestingly participants from all groups performed equally with *MidAirInArOut* technique."
   ]
  },
  {
   "cell_type": "markdown",
   "metadata": {},
   "source": [
    "We compare the TCT for the three techniques only with pairwise t-tests (Benjamini–Hochberg correction) ."
   ]
  },
  {
   "cell_type": "code",
   "execution_count": 60,
   "metadata": {},
   "outputs": [
    {
     "data": {
      "text/html": [
       "<div>\n",
       "<style scoped>\n",
       "    .dataframe tbody tr th:only-of-type {\n",
       "        vertical-align: middle;\n",
       "    }\n",
       "\n",
       "    .dataframe tbody tr th {\n",
       "        vertical-align: top;\n",
       "    }\n",
       "\n",
       "    .dataframe thead th {\n",
       "        text-align: right;\n",
       "    }\n",
       "</style>\n",
       "<table border=\"1\" class=\"dataframe\">\n",
       "  <thead>\n",
       "    <tr style=\"text-align: right;\">\n",
       "      <th></th>\n",
       "      <th>IV</th>\n",
       "      <th>IV Value 1</th>\n",
       "      <th>IV Value 2</th>\n",
       "      <th>DV</th>\n",
       "      <th>Mean Difference</th>\n",
       "      <th>Mean Difference Percentage</th>\n",
       "      <th>T statistic</th>\n",
       "      <th>p-value</th>\n",
       "    </tr>\n",
       "  </thead>\n",
       "  <tbody>\n",
       "    <tr>\n",
       "      <th>0</th>\n",
       "      <td>Technique</td>\n",
       "      <td>PhoneOnly</td>\n",
       "      <td>PhoneInArOut</td>\n",
       "      <td>Task Completion Time (s)</td>\n",
       "      <td>21.840362</td>\n",
       "      <td>32.666819</td>\n",
       "      <td>4.090635</td>\n",
       "      <td>9.077859e-05</td>\n",
       "    </tr>\n",
       "    <tr>\n",
       "      <th>1</th>\n",
       "      <td>Technique</td>\n",
       "      <td>PhoneOnly</td>\n",
       "      <td>MidAirInArOut</td>\n",
       "      <td>Task Completion Time (s)</td>\n",
       "      <td>-49.467731</td>\n",
       "      <td>-35.803106</td>\n",
       "      <td>-5.615875</td>\n",
       "      <td>2.966612e-07</td>\n",
       "    </tr>\n",
       "    <tr>\n",
       "      <th>2</th>\n",
       "      <td>Technique</td>\n",
       "      <td>PhoneInArOut</td>\n",
       "      <td>MidAirInArOut</td>\n",
       "      <td>Task Completion Time (s)</td>\n",
       "      <td>-71.308093</td>\n",
       "      <td>-51.610437</td>\n",
       "      <td>-9.032751</td>\n",
       "      <td>6.282833e-14</td>\n",
       "    </tr>\n",
       "  </tbody>\n",
       "</table>\n",
       "</div>"
      ],
      "text/plain": [
       "          IV    IV Value 1     IV Value 2                        DV  \\\n",
       "0  Technique     PhoneOnly   PhoneInArOut  Task Completion Time (s)   \n",
       "1  Technique     PhoneOnly  MidAirInArOut  Task Completion Time (s)   \n",
       "2  Technique  PhoneInArOut  MidAirInArOut  Task Completion Time (s)   \n",
       "\n",
       "   Mean Difference  Mean Difference Percentage  T statistic       p-value  \n",
       "0        21.840362                   32.666819     4.090635  9.077859e-05  \n",
       "1       -49.467731                  -35.803106    -5.615875  2.966612e-07  \n",
       "2       -71.308093                  -51.610437    -9.032751  6.282833e-14  "
      ]
     },
     "execution_count": 60,
     "metadata": {},
     "output_type": "execute_result"
    }
   ],
   "source": [
    "test_pairwise_trials('technique', 'total_time', correction_method='fdr_bh',\n",
    "                     log_data=True)"
   ]
  },
  {
   "cell_type": "markdown",
   "metadata": {},
   "source": [
    "- *PhoneInArOut* is $71 s$ $(+52\\%)$ faster than *MidAirInArOut* ($p < 0.0001$).\n",
    "- *PhoneOnly* is $49 s$ $(+36\\%)$ faster than *MidAirInArOut* ($p < 0.0001$).\n",
    "- *PhoneInArOut* is $22 s$ $(+33\\%)$ faster than *PhoneOnly* ($p < 0.0001$)."
   ]
  },
  {
   "cell_type": "markdown",
   "metadata": {},
   "source": [
    "### 3.2. Errors"
   ]
  },
  {
   "cell_type": "markdown",
   "metadata": {},
   "source": [
    "We visualize first the SELECTIONS and ERRORS distributions:"
   ]
  },
  {
   "cell_type": "code",
   "execution_count": 61,
   "metadata": {
    "scrolled": false
   },
   "outputs": [
    {
     "data": {
      "image/png": "[encoded data removed]",
      "text/plain": [
       "<Figure size 685.475x576 with 6 Axes>"
      ]
     },
     "metadata": {},
     "output_type": "display_data"
    }
   ],
   "source": [
    "g = sns.pairplot(trials, hue=technique['label'], kind='reg',\n",
    "                 vars=[trials_dvs['selections_count'], trials_dvs['errors']],\n",
    "                 palette=technique['palette'], size=4);\n",
    "g.savefig('selections_errors_distributions.png')"
   ]
  },
  {
   "cell_type": "markdown",
   "metadata": {},
   "source": [
    "It seems that a user makes as much errors as she makes selections. The relation is almost the same for each technique, even if users seems to make more selections for the same number of errors with PhoneOnly. "
   ]
  },
  {
   "cell_type": "markdown",
   "metadata": {},
   "source": [
    "We can't use ANOVA on SELECTIONS and ERRORS variables as their distributions are exponentials. We use instead the Kruskal-Wallis test (Benjamini–Hochberg correction) to check if there is significative differences due to TECHNIQUE, TEXT_SIZE, DISTANCE or ORDERING."
   ]
  },
  {
   "cell_type": "code",
   "execution_count": 62,
   "metadata": {},
   "outputs": [
    {
     "data": {
      "text/html": [
       "<div>\n",
       "<style scoped>\n",
       "    .dataframe tbody tr th:only-of-type {\n",
       "        vertical-align: middle;\n",
       "    }\n",
       "\n",
       "    .dataframe tbody tr th {\n",
       "        vertical-align: top;\n",
       "    }\n",
       "\n",
       "    .dataframe thead th {\n",
       "        text-align: right;\n",
       "    }\n",
       "</style>\n",
       "<table border=\"1\" class=\"dataframe\">\n",
       "  <thead>\n",
       "    <tr style=\"text-align: right;\">\n",
       "      <th></th>\n",
       "      <th>IV</th>\n",
       "      <th>DV</th>\n",
       "      <th>Kruskal-Wallis H</th>\n",
       "      <th>p-value</th>\n",
       "    </tr>\n",
       "  </thead>\n",
       "  <tbody>\n",
       "    <tr>\n",
       "      <th>0</th>\n",
       "      <td>Technique</td>\n",
       "      <td>Selections</td>\n",
       "      <td>15.125918</td>\n",
       "      <td>0.004155</td>\n",
       "    </tr>\n",
       "    <tr>\n",
       "      <th>1</th>\n",
       "      <td>Text Size</td>\n",
       "      <td>Selections</td>\n",
       "      <td>0.003897</td>\n",
       "      <td>0.950224</td>\n",
       "    </tr>\n",
       "    <tr>\n",
       "      <th>2</th>\n",
       "      <td>Distance</td>\n",
       "      <td>Selections</td>\n",
       "      <td>0.052701</td>\n",
       "      <td>0.935347</td>\n",
       "    </tr>\n",
       "    <tr>\n",
       "      <th>3</th>\n",
       "      <td>Ordering</td>\n",
       "      <td>Selections</td>\n",
       "      <td>11.510535</td>\n",
       "      <td>0.010095</td>\n",
       "    </tr>\n",
       "    <tr>\n",
       "      <th>4</th>\n",
       "      <td>Technique</td>\n",
       "      <td>Errors</td>\n",
       "      <td>5.201541</td>\n",
       "      <td>0.148433</td>\n",
       "    </tr>\n",
       "    <tr>\n",
       "      <th>5</th>\n",
       "      <td>Text Size</td>\n",
       "      <td>Errors</td>\n",
       "      <td>0.103661</td>\n",
       "      <td>0.935347</td>\n",
       "    </tr>\n",
       "    <tr>\n",
       "      <th>6</th>\n",
       "      <td>Distance</td>\n",
       "      <td>Errors</td>\n",
       "      <td>0.201599</td>\n",
       "      <td>0.935347</td>\n",
       "    </tr>\n",
       "    <tr>\n",
       "      <th>7</th>\n",
       "      <td>Ordering</td>\n",
       "      <td>Errors</td>\n",
       "      <td>11.153096</td>\n",
       "      <td>0.010095</td>\n",
       "    </tr>\n",
       "  </tbody>\n",
       "</table>\n",
       "</div>"
      ],
      "text/plain": [
       "          IV          DV  Kruskal-Wallis H   p-value\n",
       "0  Technique  Selections         15.125918  0.004155\n",
       "1  Text Size  Selections          0.003897  0.950224\n",
       "2   Distance  Selections          0.052701  0.935347\n",
       "3   Ordering  Selections         11.510535  0.010095\n",
       "4  Technique      Errors          5.201541  0.148433\n",
       "5  Text Size      Errors          0.103661  0.935347\n",
       "6   Distance      Errors          0.201599  0.935347\n",
       "7   Ordering      Errors         11.153096  0.010095"
      ]
     },
     "execution_count": 62,
     "metadata": {},
     "output_type": "execute_result"
    }
   ],
   "source": [
    "test_non_normal_trials(['technique', 'text_size', 'distance', 'ordering'],\n",
    "                       ['selections_count', 'errors'])"
   ]
  },
  {
   "cell_type": "markdown",
   "metadata": {},
   "source": [
    "Only TECHNIQUE ($p=0.004$) and ORDERING ($p=0.01$) have a significant effect on SELECTIONS. But, only ORDERING ($p=0.01$) have a significant effect on ERRORS."
   ]
  },
  {
   "cell_type": "markdown",
   "metadata": {},
   "source": [
    "We use then pairwise Mann-Whitney tests (Benjamini–Hochberg correction) for the significant questions above:"
   ]
  },
  {
   "cell_type": "code",
   "execution_count": 63,
   "metadata": {},
   "outputs": [
    {
     "data": {
      "text/html": [
       "<div>\n",
       "<style scoped>\n",
       "    .dataframe tbody tr th:only-of-type {\n",
       "        vertical-align: middle;\n",
       "    }\n",
       "\n",
       "    .dataframe tbody tr th {\n",
       "        vertical-align: top;\n",
       "    }\n",
       "\n",
       "    .dataframe thead th {\n",
       "        text-align: right;\n",
       "    }\n",
       "</style>\n",
       "<table border=\"1\" class=\"dataframe\">\n",
       "  <thead>\n",
       "    <tr style=\"text-align: right;\">\n",
       "      <th></th>\n",
       "      <th>IV</th>\n",
       "      <th>IV Value 1</th>\n",
       "      <th>IV Value 2</th>\n",
       "      <th>DV</th>\n",
       "      <th>Mean Difference</th>\n",
       "      <th>Mean Difference Percentage</th>\n",
       "      <th>Mann-Whitney U</th>\n",
       "      <th>p-value</th>\n",
       "    </tr>\n",
       "  </thead>\n",
       "  <tbody>\n",
       "    <tr>\n",
       "      <th>0</th>\n",
       "      <td>Technique</td>\n",
       "      <td>PhoneOnly</td>\n",
       "      <td>PhoneInArOut</td>\n",
       "      <td>Selections</td>\n",
       "      <td>1.864583</td>\n",
       "      <td>29.537954</td>\n",
       "      <td>627.0</td>\n",
       "      <td>0.000635</td>\n",
       "    </tr>\n",
       "    <tr>\n",
       "      <th>1</th>\n",
       "      <td>Technique</td>\n",
       "      <td>PhoneOnly</td>\n",
       "      <td>MidAirInArOut</td>\n",
       "      <td>Selections</td>\n",
       "      <td>1.041667</td>\n",
       "      <td>14.598540</td>\n",
       "      <td>864.5</td>\n",
       "      <td>0.029356</td>\n",
       "    </tr>\n",
       "    <tr>\n",
       "      <th>2</th>\n",
       "      <td>Technique</td>\n",
       "      <td>PhoneInArOut</td>\n",
       "      <td>MidAirInArOut</td>\n",
       "      <td>Selections</td>\n",
       "      <td>-0.822917</td>\n",
       "      <td>-11.532847</td>\n",
       "      <td>915.0</td>\n",
       "      <td>0.059881</td>\n",
       "    </tr>\n",
       "    <tr>\n",
       "      <th>3</th>\n",
       "      <td>Ordering</td>\n",
       "      <td>Group 1</td>\n",
       "      <td>Group 2</td>\n",
       "      <td>Selections</td>\n",
       "      <td>1.729167</td>\n",
       "      <td>26.265823</td>\n",
       "      <td>755.0</td>\n",
       "      <td>0.005196</td>\n",
       "    </tr>\n",
       "    <tr>\n",
       "      <th>4</th>\n",
       "      <td>Ordering</td>\n",
       "      <td>Group 1</td>\n",
       "      <td>Group 3</td>\n",
       "      <td>Selections</td>\n",
       "      <td>1.583333</td>\n",
       "      <td>23.529412</td>\n",
       "      <td>755.0</td>\n",
       "      <td>0.005196</td>\n",
       "    </tr>\n",
       "    <tr>\n",
       "      <th>5</th>\n",
       "      <td>Ordering</td>\n",
       "      <td>Group 2</td>\n",
       "      <td>Group 3</td>\n",
       "      <td>Selections</td>\n",
       "      <td>-0.145833</td>\n",
       "      <td>-2.167183</td>\n",
       "      <td>1136.0</td>\n",
       "      <td>0.454285</td>\n",
       "    </tr>\n",
       "    <tr>\n",
       "      <th>6</th>\n",
       "      <td>Technique</td>\n",
       "      <td>PhoneOnly</td>\n",
       "      <td>PhoneInArOut</td>\n",
       "      <td>Errors</td>\n",
       "      <td>0.125000</td>\n",
       "      <td>42.857143</td>\n",
       "      <td>1083.5</td>\n",
       "      <td>0.312007</td>\n",
       "    </tr>\n",
       "    <tr>\n",
       "      <th>7</th>\n",
       "      <td>Technique</td>\n",
       "      <td>PhoneOnly</td>\n",
       "      <td>MidAirInArOut</td>\n",
       "      <td>Errors</td>\n",
       "      <td>-0.166667</td>\n",
       "      <td>-28.571429</td>\n",
       "      <td>957.0</td>\n",
       "      <td>0.083050</td>\n",
       "    </tr>\n",
       "    <tr>\n",
       "      <th>8</th>\n",
       "      <td>Technique</td>\n",
       "      <td>PhoneInArOut</td>\n",
       "      <td>MidAirInArOut</td>\n",
       "      <td>Errors</td>\n",
       "      <td>-0.291667</td>\n",
       "      <td>-50.000000</td>\n",
       "      <td>873.0</td>\n",
       "      <td>0.026306</td>\n",
       "    </tr>\n",
       "    <tr>\n",
       "      <th>9</th>\n",
       "      <td>Ordering</td>\n",
       "      <td>Group 1</td>\n",
       "      <td>Group 2</td>\n",
       "      <td>Errors</td>\n",
       "      <td>0.333333</td>\n",
       "      <td>103.225806</td>\n",
       "      <td>846.5</td>\n",
       "      <td>0.020183</td>\n",
       "    </tr>\n",
       "    <tr>\n",
       "      <th>10</th>\n",
       "      <td>Ordering</td>\n",
       "      <td>Group 1</td>\n",
       "      <td>Group 3</td>\n",
       "      <td>Errors</td>\n",
       "      <td>0.343750</td>\n",
       "      <td>110.000000</td>\n",
       "      <td>761.5</td>\n",
       "      <td>0.005196</td>\n",
       "    </tr>\n",
       "    <tr>\n",
       "      <th>11</th>\n",
       "      <td>Ordering</td>\n",
       "      <td>Group 2</td>\n",
       "      <td>Group 3</td>\n",
       "      <td>Errors</td>\n",
       "      <td>0.010417</td>\n",
       "      <td>3.333333</td>\n",
       "      <td>1039.0</td>\n",
       "      <td>0.205336</td>\n",
       "    </tr>\n",
       "  </tbody>\n",
       "</table>\n",
       "</div>"
      ],
      "text/plain": [
       "           IV    IV Value 1     IV Value 2          DV  Mean Difference  \\\n",
       "0   Technique     PhoneOnly   PhoneInArOut  Selections         1.864583   \n",
       "1   Technique     PhoneOnly  MidAirInArOut  Selections         1.041667   \n",
       "2   Technique  PhoneInArOut  MidAirInArOut  Selections        -0.822917   \n",
       "3    Ordering       Group 1        Group 2  Selections         1.729167   \n",
       "4    Ordering       Group 1        Group 3  Selections         1.583333   \n",
       "5    Ordering       Group 2        Group 3  Selections        -0.145833   \n",
       "6   Technique     PhoneOnly   PhoneInArOut      Errors         0.125000   \n",
       "7   Technique     PhoneOnly  MidAirInArOut      Errors        -0.166667   \n",
       "8   Technique  PhoneInArOut  MidAirInArOut      Errors        -0.291667   \n",
       "9    Ordering       Group 1        Group 2      Errors         0.333333   \n",
       "10   Ordering       Group 1        Group 3      Errors         0.343750   \n",
       "11   Ordering       Group 2        Group 3      Errors         0.010417   \n",
       "\n",
       "    Mean Difference Percentage  Mann-Whitney U   p-value  \n",
       "0                    29.537954           627.0  0.000635  \n",
       "1                    14.598540           864.5  0.029356  \n",
       "2                   -11.532847           915.0  0.059881  \n",
       "3                    26.265823           755.0  0.005196  \n",
       "4                    23.529412           755.0  0.005196  \n",
       "5                    -2.167183          1136.0  0.454285  \n",
       "6                    42.857143          1083.5  0.312007  \n",
       "7                   -28.571429           957.0  0.083050  \n",
       "8                   -50.000000           873.0  0.026306  \n",
       "9                   103.225806           846.5  0.020183  \n",
       "10                  110.000000           761.5  0.005196  \n",
       "11                    3.333333          1039.0  0.205336  "
      ]
     },
     "execution_count": 63,
     "metadata": {},
     "output_type": "execute_result"
    }
   ],
   "source": [
    "test_pairwise_non_normal_trials(['technique', 'ordering'],\n",
    "                                ['selections_count', 'errors'])"
   ]
  },
  {
   "cell_type": "code",
   "execution_count": 64,
   "metadata": {},
   "outputs": [
    {
     "data": {
      "text/html": [
       "<div>\n",
       "<style scoped>\n",
       "    .dataframe tbody tr th:only-of-type {\n",
       "        vertical-align: middle;\n",
       "    }\n",
       "\n",
       "    .dataframe tbody tr th {\n",
       "        vertical-align: top;\n",
       "    }\n",
       "\n",
       "    .dataframe thead th {\n",
       "        text-align: right;\n",
       "    }\n",
       "</style>\n",
       "<table border=\"1\" class=\"dataframe\">\n",
       "  <thead>\n",
       "    <tr style=\"text-align: right;\">\n",
       "      <th></th>\n",
       "      <th>Selections</th>\n",
       "      <th>Errors</th>\n",
       "    </tr>\n",
       "    <tr>\n",
       "      <th>Technique</th>\n",
       "      <th></th>\n",
       "      <th></th>\n",
       "    </tr>\n",
       "  </thead>\n",
       "  <tbody>\n",
       "    <tr>\n",
       "      <th>PhoneOnly</th>\n",
       "      <td>8.18 [7.42, 9.06]</td>\n",
       "      <td>0.42 [0.24, 0.61]</td>\n",
       "    </tr>\n",
       "    <tr>\n",
       "      <th>PhoneInArOut</th>\n",
       "      <td>6.31 [5.97, 6.66]</td>\n",
       "      <td>0.29 [0.18, 0.42]</td>\n",
       "    </tr>\n",
       "    <tr>\n",
       "      <th>MidAirInArOut</th>\n",
       "      <td>7.14 [6.55, 7.84]</td>\n",
       "      <td>0.58 [0.39, 0.80]</td>\n",
       "    </tr>\n",
       "  </tbody>\n",
       "</table>\n",
       "</div>"
      ],
      "text/plain": [
       "                      Selections             Errors\n",
       "Technique                                          \n",
       "PhoneOnly      8.18 [7.42, 9.06]  0.42 [0.24, 0.61]\n",
       "PhoneInArOut   6.31 [5.97, 6.66]  0.29 [0.18, 0.42]\n",
       "MidAirInArOut  7.14 [6.55, 7.84]  0.58 [0.39, 0.80]"
      ]
     },
     "execution_count": 64,
     "metadata": {},
     "output_type": "execute_result"
    }
   ],
   "source": [
    "trial_means(['technique'], ['selections_count', 'errors'])"
   ]
  },
  {
   "cell_type": "code",
   "execution_count": 65,
   "metadata": {},
   "outputs": [
    {
     "data": {
      "image/png": "[encoded data removed]",
      "text/plain": [
       "<Figure size 360x288 with 1 Axes>"
      ]
     },
     "metadata": {},
     "output_type": "display_data"
    }
   ],
   "source": [
    "(fig, axs) = plot_trials([['technique']], 'selections_count')\n",
    "fig.savefig('selections.png')"
   ]
  },
  {
   "cell_type": "code",
   "execution_count": 66,
   "metadata": {},
   "outputs": [
    {
     "data": {
      "image/png": "[encoded data removed]",
      "text/plain": [
       "<Figure size 360x288 with 1 Axes>"
      ]
     },
     "metadata": {},
     "output_type": "display_data"
    }
   ],
   "source": [
    "(fig, axs) = plot_trials([['technique']], 'errors')\n",
    "fig.savefig('errors.png')"
   ]
  },
  {
   "cell_type": "code",
   "execution_count": 67,
   "metadata": {},
   "outputs": [
    {
     "data": {
      "text/html": [
       "<div>\n",
       "<style scoped>\n",
       "    .dataframe tbody tr th:only-of-type {\n",
       "        vertical-align: middle;\n",
       "    }\n",
       "\n",
       "    .dataframe tbody tr th {\n",
       "        vertical-align: top;\n",
       "    }\n",
       "\n",
       "    .dataframe thead th {\n",
       "        text-align: right;\n",
       "    }\n",
       "</style>\n",
       "<table border=\"1\" class=\"dataframe\">\n",
       "  <thead>\n",
       "    <tr style=\"text-align: right;\">\n",
       "      <th></th>\n",
       "      <th></th>\n",
       "      <th>Selections</th>\n",
       "      <th>Errors</th>\n",
       "    </tr>\n",
       "    <tr>\n",
       "      <th>Ordering</th>\n",
       "      <th>Technique</th>\n",
       "      <th></th>\n",
       "      <th></th>\n",
       "    </tr>\n",
       "  </thead>\n",
       "  <tbody>\n",
       "    <tr>\n",
       "      <th rowspan=\"3\" valign=\"top\">Group 1</th>\n",
       "      <th>PhoneOnly</th>\n",
       "      <td>10.44 [8.66, 12.41]</td>\n",
       "      <td>0.81 [0.41, 1.31]</td>\n",
       "    </tr>\n",
       "    <tr>\n",
       "      <th>PhoneInArOut</th>\n",
       "      <td>6.88 [6.34, 7.47]</td>\n",
       "      <td>0.44 [0.22, 0.69]</td>\n",
       "    </tr>\n",
       "    <tr>\n",
       "      <th>MidAirInArOut</th>\n",
       "      <td>7.62 [6.56, 8.94]</td>\n",
       "      <td>0.72 [0.41, 1.03]</td>\n",
       "    </tr>\n",
       "    <tr>\n",
       "      <th rowspan=\"3\" valign=\"top\">Group 2</th>\n",
       "      <th>PhoneOnly</th>\n",
       "      <td>6.75 [6.22, 7.31]</td>\n",
       "      <td>0.22 [0.06, 0.41]</td>\n",
       "    </tr>\n",
       "    <tr>\n",
       "      <th>PhoneInArOut</th>\n",
       "      <td>6.53 [5.91, 7.22]</td>\n",
       "      <td>0.38 [0.16, 0.59]</td>\n",
       "    </tr>\n",
       "    <tr>\n",
       "      <th>MidAirInArOut</th>\n",
       "      <td>6.47 [5.88, 7.09]</td>\n",
       "      <td>0.38 [0.16, 0.59]</td>\n",
       "    </tr>\n",
       "    <tr>\n",
       "      <th rowspan=\"3\" valign=\"top\">Group 3</th>\n",
       "      <th>PhoneOnly</th>\n",
       "      <td>7.34 [6.66, 8.06]</td>\n",
       "      <td>0.22 [0.06, 0.41]</td>\n",
       "    </tr>\n",
       "    <tr>\n",
       "      <th>PhoneInArOut</th>\n",
       "      <td>5.53 [5.22, 5.88]</td>\n",
       "      <td>0.06 [0.00, 0.16]</td>\n",
       "    </tr>\n",
       "    <tr>\n",
       "      <th>MidAirInArOut</th>\n",
       "      <td>7.31 [6.34, 8.56]</td>\n",
       "      <td>0.66 [0.25, 1.16]</td>\n",
       "    </tr>\n",
       "  </tbody>\n",
       "</table>\n",
       "</div>"
      ],
      "text/plain": [
       "                                 Selections             Errors\n",
       "Ordering Technique                                            \n",
       "Group 1  PhoneOnly      10.44 [8.66, 12.41]  0.81 [0.41, 1.31]\n",
       "         PhoneInArOut     6.88 [6.34, 7.47]  0.44 [0.22, 0.69]\n",
       "         MidAirInArOut    7.62 [6.56, 8.94]  0.72 [0.41, 1.03]\n",
       "Group 2  PhoneOnly        6.75 [6.22, 7.31]  0.22 [0.06, 0.41]\n",
       "         PhoneInArOut     6.53 [5.91, 7.22]  0.38 [0.16, 0.59]\n",
       "         MidAirInArOut    6.47 [5.88, 7.09]  0.38 [0.16, 0.59]\n",
       "Group 3  PhoneOnly        7.34 [6.66, 8.06]  0.22 [0.06, 0.41]\n",
       "         PhoneInArOut     5.53 [5.22, 5.88]  0.06 [0.00, 0.16]\n",
       "         MidAirInArOut    7.31 [6.34, 8.56]  0.66 [0.25, 1.16]"
      ]
     },
     "execution_count": 67,
     "metadata": {},
     "output_type": "execute_result"
    }
   ],
   "source": [
    "trial_means(['ordering', 'technique'], ['selections_count', 'errors'])"
   ]
  },
  {
   "cell_type": "code",
   "execution_count": 68,
   "metadata": {},
   "outputs": [
    {
     "data": {
      "image/png": "[encoded data removed]",
      "text/plain": [
       "<Figure size 432x288 with 1 Axes>"
      ]
     },
     "metadata": {},
     "output_type": "display_data"
    }
   ],
   "source": [
    "ax = sns.pointplot(x=trials_dvs['selections_count'], y=technique['label'],\n",
    "                   hue=ordering['label'], palette=ordering['palette'],\n",
    "                   data=trials, dodge=True)\n",
    "config_legend(ax, 'ordering')\n",
    "ax.get_figure().savefig('selections_ordering.png')"
   ]
  },
  {
   "cell_type": "code",
   "execution_count": 69,
   "metadata": {},
   "outputs": [
    {
     "data": {
      "image/png": "[encoded data removed]",
      "text/plain": [
       "<Figure size 432x288 with 1 Axes>"
      ]
     },
     "metadata": {},
     "output_type": "display_data"
    }
   ],
   "source": [
    "ax = sns.pointplot(x=trials_dvs['errors'], y=technique['label'],\n",
    "                   hue=ordering['label'], palette=ordering['palette'],\n",
    "                   data=trials, dodge=True)\n",
    "config_legend(ax, 'ordering')\n",
    "ax.get_figure().savefig('errors_ordering.png')"
   ]
  },
  {
   "cell_type": "markdown",
   "metadata": {},
   "source": [
    "### 3.3. Navigation"
   ]
  },
  {
   "cell_type": "markdown",
   "metadata": {},
   "source": [
    "Variable meanings:\n",
    "\n",
    "- Selection Time = time spent looking for where to drop an item that had been picked\n",
    "- Selection Distance = distance travelled by the finger with an item selected\n",
    "- Head Phone Distance = sum of the distance between the head and the phone"
   ]
  },
  {
   "cell_type": "code",
   "execution_count": 70,
   "metadata": {},
   "outputs": [],
   "source": [
    "# Data preparation\n",
    "trial_counts = melt_trials(var_name=labels['category'],\n",
    "                           value_name=labels['count'], \n",
    "                           value_vars=[trials_dvs['pan_count'],\n",
    "                                      trials_dvs['zoom_count']])\n",
    "\n",
    "trial_times = melt_trials(var_name=labels['category'],\n",
    "                          value_name=labels['time'],\n",
    "                          value_vars=[trials_dvs['selections_time'],\n",
    "                                      trials_dvs['pan_time'],\n",
    "                                      trials_dvs['zoom_time']])\n",
    "\n",
    "trial_distances_dvs = [trials_dvs['selections_projected_distance'],\n",
    "                       trials_dvs['pan_projected_distance'],\n",
    "                       trials_dvs['zoom_projected_distance'],\n",
    "                       trials_dvs['absolute_head_phone_distance']]\n",
    "trial_distances = melt_trials(var_name=labels['category'],\n",
    "                              value_name=labels['distance'],\n",
    "                              value_vars=trial_distances_dvs)"
   ]
  },
  {
   "cell_type": "code",
   "execution_count": 71,
   "metadata": {},
   "outputs": [
    {
     "data": {
      "text/html": [
       "<div>\n",
       "<style scoped>\n",
       "    .dataframe tbody tr th:only-of-type {\n",
       "        vertical-align: middle;\n",
       "    }\n",
       "\n",
       "    .dataframe tbody tr th {\n",
       "        vertical-align: top;\n",
       "    }\n",
       "\n",
       "    .dataframe thead th {\n",
       "        text-align: right;\n",
       "    }\n",
       "</style>\n",
       "<table border=\"1\" class=\"dataframe\">\n",
       "  <thead>\n",
       "    <tr style=\"text-align: right;\">\n",
       "      <th></th>\n",
       "      <th>Pans</th>\n",
       "      <th>Zooms</th>\n",
       "    </tr>\n",
       "    <tr>\n",
       "      <th>Technique</th>\n",
       "      <th></th>\n",
       "      <th></th>\n",
       "    </tr>\n",
       "  </thead>\n",
       "  <tbody>\n",
       "    <tr>\n",
       "      <th>PhoneOnly</th>\n",
       "      <td>28.70 [24.13, 34.34]</td>\n",
       "      <td>15.53 [13.57, 17.52]</td>\n",
       "    </tr>\n",
       "    <tr>\n",
       "      <th>PhoneInArOut</th>\n",
       "      <td>31.81 [26.75, 37.24]</td>\n",
       "      <td>7.14 [5.64, 8.65]</td>\n",
       "    </tr>\n",
       "    <tr>\n",
       "      <th>MidAirInArOut</th>\n",
       "      <td>1.83 [0.78, 3.10]</td>\n",
       "      <td>0.83 [0.27, 1.50]</td>\n",
       "    </tr>\n",
       "  </tbody>\n",
       "</table>\n",
       "</div>"
      ],
      "text/plain": [
       "                               Pans                 Zooms\n",
       "Technique                                                \n",
       "PhoneOnly      28.70 [24.13, 34.34]  15.53 [13.57, 17.52]\n",
       "PhoneInArOut   31.81 [26.75, 37.24]     7.14 [5.64, 8.65]\n",
       "MidAirInArOut     1.83 [0.78, 3.10]     0.83 [0.27, 1.50]"
      ]
     },
     "execution_count": 71,
     "metadata": {},
     "output_type": "execute_result"
    }
   ],
   "source": [
    "trial_means(['technique'], ['pan_count', 'zoom_count'])"
   ]
  },
  {
   "cell_type": "code",
   "execution_count": 72,
   "metadata": {
    "scrolled": true
   },
   "outputs": [
    {
     "data": {
      "image/png": "[encoded data removed]",
      "text/plain": [
       "<Figure size 432x288 with 1 Axes>"
      ]
     },
     "metadata": {},
     "output_type": "display_data"
    }
   ],
   "source": [
    "ax = sns.barplot(x=labels['category'], y=labels['count'],\n",
    "                 hue=technique['label'], palette=technique['palette'],\n",
    "                 data=trial_counts)\n",
    "config_legend(ax, 'technique')\n",
    "ax.set(xlabel='')\n",
    "ax.get_figure().savefig('navigation_count.png')"
   ]
  },
  {
   "cell_type": "code",
   "execution_count": 73,
   "metadata": {},
   "outputs": [
    {
     "data": {
      "text/html": [
       "<div>\n",
       "<style scoped>\n",
       "    .dataframe tbody tr th:only-of-type {\n",
       "        vertical-align: middle;\n",
       "    }\n",
       "\n",
       "    .dataframe tbody tr th {\n",
       "        vertical-align: top;\n",
       "    }\n",
       "\n",
       "    .dataframe thead th {\n",
       "        text-align: right;\n",
       "    }\n",
       "</style>\n",
       "<table border=\"1\" class=\"dataframe\">\n",
       "  <thead>\n",
       "    <tr style=\"text-align: right;\">\n",
       "      <th></th>\n",
       "      <th>Selection Time</th>\n",
       "      <th>Pan Time</th>\n",
       "      <th>Zoom Time</th>\n",
       "    </tr>\n",
       "    <tr>\n",
       "      <th>Technique</th>\n",
       "      <th></th>\n",
       "      <th></th>\n",
       "      <th></th>\n",
       "    </tr>\n",
       "  </thead>\n",
       "  <tbody>\n",
       "    <tr>\n",
       "      <th>PhoneOnly</th>\n",
       "      <td>55.74 [49.90, 61.91]</td>\n",
       "      <td>17.12 [14.51, 20.05]</td>\n",
       "      <td>15.18 [13.24, 17.09]</td>\n",
       "    </tr>\n",
       "    <tr>\n",
       "      <th>PhoneInArOut</th>\n",
       "      <td>38.98 [34.07, 43.97]</td>\n",
       "      <td>14.53 [12.49, 16.68]</td>\n",
       "      <td>6.70 [5.02, 8.65]</td>\n",
       "    </tr>\n",
       "    <tr>\n",
       "      <th>MidAirInArOut</th>\n",
       "      <td>69.68 [61.15, 79.08]</td>\n",
       "      <td>5.97 [2.27, 10.49]</td>\n",
       "      <td>6.24 [1.48, 11.96]</td>\n",
       "    </tr>\n",
       "  </tbody>\n",
       "</table>\n",
       "</div>"
      ],
      "text/plain": [
       "                     Selection Time              Pan Time  \\\n",
       "Technique                                                   \n",
       "PhoneOnly      55.74 [49.90, 61.91]  17.12 [14.51, 20.05]   \n",
       "PhoneInArOut   38.98 [34.07, 43.97]  14.53 [12.49, 16.68]   \n",
       "MidAirInArOut  69.68 [61.15, 79.08]    5.97 [2.27, 10.49]   \n",
       "\n",
       "                          Zoom Time  \n",
       "Technique                            \n",
       "PhoneOnly      15.18 [13.24, 17.09]  \n",
       "PhoneInArOut      6.70 [5.02, 8.65]  \n",
       "MidAirInArOut    6.24 [1.48, 11.96]  "
      ]
     },
     "execution_count": 73,
     "metadata": {},
     "output_type": "execute_result"
    }
   ],
   "source": [
    "trial_means(['technique'], ['selections_time', 'pan_time', 'zoom_time'])"
   ]
  },
  {
   "cell_type": "code",
   "execution_count": 74,
   "metadata": {},
   "outputs": [
    {
     "data": {
      "image/png": "[encoded data removed]",
      "text/plain": [
       "<Figure size 432x288 with 1 Axes>"
      ]
     },
     "metadata": {},
     "output_type": "display_data"
    }
   ],
   "source": [
    "ax = sns.barplot(x=labels['category'], y=labels['time'], data=trial_times,\n",
    "                 hue=technique['label'], palette=technique['palette'])\n",
    "config_legend(ax, 'technique')\n",
    "ax.set(xlabel='')\n",
    "ax.get_figure().savefig('navigation_time.png')"
   ]
  },
  {
   "cell_type": "code",
   "execution_count": 75,
   "metadata": {},
   "outputs": [
    {
     "data": {
      "text/html": [
       "<div>\n",
       "<style scoped>\n",
       "    .dataframe tbody tr th:only-of-type {\n",
       "        vertical-align: middle;\n",
       "    }\n",
       "\n",
       "    .dataframe tbody tr th {\n",
       "        vertical-align: top;\n",
       "    }\n",
       "\n",
       "    .dataframe thead th {\n",
       "        text-align: right;\n",
       "    }\n",
       "</style>\n",
       "<table border=\"1\" class=\"dataframe\">\n",
       "  <thead>\n",
       "    <tr style=\"text-align: right;\">\n",
       "      <th></th>\n",
       "      <th>Selection Distance on Grid</th>\n",
       "      <th>Pan Distance on Grid</th>\n",
       "      <th>Zoom Distance on Grid</th>\n",
       "      <th>Phone-Head Motion</th>\n",
       "    </tr>\n",
       "    <tr>\n",
       "      <th>Technique</th>\n",
       "      <th></th>\n",
       "      <th></th>\n",
       "      <th></th>\n",
       "      <th></th>\n",
       "    </tr>\n",
       "  </thead>\n",
       "  <tbody>\n",
       "    <tr>\n",
       "      <th>PhoneOnly</th>\n",
       "      <td>4.87 [4.04, 5.80]</td>\n",
       "      <td>1.50 [1.20, 1.82]</td>\n",
       "      <td>2.11 [1.74, 2.59]</td>\n",
       "      <td>3.18 [2.35, 4.14]</td>\n",
       "    </tr>\n",
       "    <tr>\n",
       "      <th>PhoneInArOut</th>\n",
       "      <td>2.83 [2.37, 3.31]</td>\n",
       "      <td>1.09 [0.90, 1.30]</td>\n",
       "      <td>0.69 [0.50, 0.91]</td>\n",
       "      <td>1.57 [1.25, 1.94]</td>\n",
       "    </tr>\n",
       "    <tr>\n",
       "      <th>MidAirInArOut</th>\n",
       "      <td>8.72 [7.16, 10.56]</td>\n",
       "      <td>0.47 [0.19, 0.81]</td>\n",
       "      <td>0.62 [0.15, 1.24]</td>\n",
       "      <td>6.12 [4.80, 7.51]</td>\n",
       "    </tr>\n",
       "  </tbody>\n",
       "</table>\n",
       "</div>"
      ],
      "text/plain": [
       "              Selection Distance on Grid Pan Distance on Grid  \\\n",
       "Technique                                                       \n",
       "PhoneOnly              4.87 [4.04, 5.80]    1.50 [1.20, 1.82]   \n",
       "PhoneInArOut           2.83 [2.37, 3.31]    1.09 [0.90, 1.30]   \n",
       "MidAirInArOut         8.72 [7.16, 10.56]    0.47 [0.19, 0.81]   \n",
       "\n",
       "              Zoom Distance on Grid  Phone-Head Motion  \n",
       "Technique                                               \n",
       "PhoneOnly         2.11 [1.74, 2.59]  3.18 [2.35, 4.14]  \n",
       "PhoneInArOut      0.69 [0.50, 0.91]  1.57 [1.25, 1.94]  \n",
       "MidAirInArOut     0.62 [0.15, 1.24]  6.12 [4.80, 7.51]  "
      ]
     },
     "execution_count": 75,
     "metadata": {},
     "output_type": "execute_result"
    }
   ],
   "source": [
    "trial_means(['technique'], ['selections_projected_distance',\n",
    "                            'pan_projected_distance',\n",
    "                            'zoom_projected_distance',\n",
    "                            'absolute_head_phone_distance'])"
   ]
  },
  {
   "cell_type": "code",
   "execution_count": 76,
   "metadata": {},
   "outputs": [
    {
     "data": {
      "image/png": "[encoded data removed]",
      "text/plain": [
       "<Figure size 576x576 with 4 Axes>"
      ]
     },
     "metadata": {},
     "output_type": "display_data"
    }
   ],
   "source": [
    "g = sns.factorplot(x=technique['label'], y=labels['distance'],\n",
    "                   col=labels['category'], data=trial_distances,\n",
    "                   palette=technique['palette'], kind='bar', col_wrap=2)\n",
    "\n",
    "g.set_titles('{col_name}') # Replace subplot titles\n",
    "for ax in g.axes:\n",
    "    ax.title.set_position([0.5, -0.12])\n",
    "\n",
    "g.set_axis_labels('') # Custom legend\n",
    "g.set_xticklabels([])\n",
    "legend_handles = [patches.Patch(color=color, label=value)\\\n",
    "                  for value, color in zip(technique['categorical'],\n",
    "                                          technique['palette'])]\n",
    "legend = plt.legend(handles=legend_handles, loc='center left',\n",
    "                    bbox_to_anchor=(1, 1.1), title=technique['label'])\n",
    "fix_legend_fontsize(legend)\n",
    "\n",
    "g.savefig('navigation_distance.png')"
   ]
  }
 ],
 "metadata": {
  "kernelspec": {
   "display_name": "Python 3",
   "language": "python",
   "name": "python3"
  },
  "language_info": {
   "codemirror_mode": {
    "name": "ipython",
    "version": 3
   },
   "file_extension": ".py",
   "mimetype": "text/x-python",
   "name": "python",
   "nbconvert_exporter": "python",
   "pygments_lexer": "ipython3",
   "version": "3.6.5"
  }
 },
 "nbformat": 4,
 "nbformat_minor": 2
}
